{
  "cells": [
    {
      "cell_type": "markdown",
      "source": [
        "# Import modules"
      ],
      "metadata": {
        "id": "bdtBTJI9YCHy"
      }
    },
    {
      "cell_type": "code",
      "execution_count": 1,
      "metadata": {
        "colab": {
          "base_uri": "https://localhost:8080/"
        },
        "id": "GHUYXezFYjNH",
        "outputId": "f2c5606a-35fd-403b-b82b-fab4a94d356f"
      },
      "outputs": [
        {
          "output_type": "stream",
          "name": "stdout",
          "text": [
            "Collecting wget\n",
            "  Downloading wget-3.2.zip (10 kB)\n",
            "  Preparing metadata (setup.py) ... \u001b[?25l\u001b[?25hdone\n",
            "Building wheels for collected packages: wget\n",
            "  Building wheel for wget (setup.py) ... \u001b[?25l\u001b[?25hdone\n",
            "  Created wheel for wget: filename=wget-3.2-py3-none-any.whl size=9656 sha256=b3df4e61966931d187dc3e326fb8f58d3529f7e3f4268981dbbbe4a25b4dc1e7\n",
            "  Stored in directory: /root/.cache/pip/wheels/8b/f1/7f/5c94f0a7a505ca1c81cd1d9208ae2064675d97582078e6c769\n",
            "Successfully built wget\n",
            "Installing collected packages: wget\n",
            "Successfully installed wget-3.2\n",
            "\u001b[31mERROR: Could not find a version that satisfies the requirement glob (from versions: none)\u001b[0m\u001b[31m\n",
            "\u001b[0m\u001b[31mERROR: No matching distribution found for glob\u001b[0m\u001b[31m\n",
            "\u001b[0m"
          ]
        }
      ],
      "source": [
        "!pip install wget\n",
        "!pip install glob"
      ]
    },
    {
      "cell_type": "code",
      "execution_count": 2,
      "metadata": {
        "id": "DN5dXXGi9b-E"
      },
      "outputs": [],
      "source": [
        "import wget\n",
        "import zipfile\n",
        "import os\n",
        "import glob\n",
        "import numpy as np\n",
        "import pandas as pd\n",
        "import tensorflow as tf\n",
        "import librosa\n",
        "import matplotlib.pyplot as plt"
      ]
    },
    {
      "cell_type": "markdown",
      "source": [
        "#Download and extract dataset"
      ],
      "metadata": {
        "id": "CztL6N8gYJFP"
      }
    },
    {
      "cell_type": "code",
      "execution_count": 3,
      "metadata": {
        "colab": {
          "base_uri": "https://localhost:8080/",
          "height": 36
        },
        "id": "5DkHyewp8zVS",
        "outputId": "590ff41b-43b1-4eaa-e1f0-75625925b119"
      },
      "outputs": [
        {
          "output_type": "execute_result",
          "data": {
            "text/plain": [
              "'mini_speech_commands.zip'"
            ],
            "application/vnd.google.colaboratory.intrinsic+json": {
              "type": "string"
            }
          },
          "metadata": {},
          "execution_count": 3
        }
      ],
      "source": [
        "wget.download(\"http://storage.googleapis.com/download.tensorflow.org/data/mini_speech_commands.zip\")"
      ]
    },
    {
      "cell_type": "code",
      "execution_count": 4,
      "metadata": {
        "colab": {
          "base_uri": "https://localhost:8080/"
        },
        "id": "9q_2Dyh29fT7",
        "outputId": "03e2d80c-c2f8-440d-dfa9-97a901ae7a37"
      },
      "outputs": [
        {
          "output_type": "stream",
          "name": "stdout",
          "text": [
            "['.config', 'mini_speech_commands', '__MACOSX', 'mini_speech_commands.zip', 'sample_data']\n",
            "['yes', 'right', 'no', 'stop', 'down', 'go', 'up', 'left', 'README.md']\n",
            "['f953e1af_nohash_3.wav', '0ac15fe9_nohash_0.wav', '5c8af87a_nohash_1.wav', '8d9cc260_nohash_2.wav', 'd0faf7e4_nohash_1.wav', 'fe1916ba_nohash_1.wav', '1cc80e39_nohash_0.wav', 'f550b7dc_nohash_0.wav', '8a28231e_nohash_2.wav', '3389305e_nohash_1.wav', '8ea22de7_nohash_1.wav', '65079685_nohash_0.wav', '48a9f771_nohash_0.wav', '8a56f36e_nohash_0.wav', '2796ac50_nohash_1.wav', 'c1d39ce8_nohash_2.wav', '6727b579_nohash_0.wav', '90b94017_nohash_0.wav', 'a5d485dc_nohash_0.wav', '4290ca61_nohash_0.wav', 'b9db6e42_nohash_0.wav', '300384f0_nohash_0.wav', '105a0eea_nohash_0.wav', '28ed6bc9_nohash_3.wav', '2cec1d47_nohash_0.wav', 'a2fefcb4_nohash_0.wav', '24632875_nohash_1.wav', '2197f41c_nohash_0.wav', '1c6e5447_nohash_0.wav', '40115b19_nohash_1.wav', 'e96a5020_nohash_0.wav', 'dbb7723a_nohash_0.wav', 'dea820ce_nohash_2.wav', 'ffd2ba2f_nohash_2.wav', '9f4098cb_nohash_0.wav', 'd952a17e_nohash_1.wav', 'e102119e_nohash_2.wav', 'b7a0754f_nohash_1.wav', '42c6fff1_nohash_0.wav', '716757ce_nohash_0.wav', '611d2b50_nohash_3.wav', 'bed06fac_nohash_0.wav', 'adc216c5_nohash_1.wav', '96a48d28_nohash_1.wav', 'e8e960fd_nohash_0.wav', 'e7d0eb3f_nohash_0.wav', '211ccd2e_nohash_0.wav', '637c702a_nohash_0.wav', '56f78b7e_nohash_0.wav', 'ec201020_nohash_1.wav', '3d53244b_nohash_2.wav', 'aff582a1_nohash_3.wav', '3cdecb0b_nohash_1.wav', 'e07dd7d4_nohash_1.wav', '3bfd30e6_nohash_4.wav', 'a4c938ce_nohash_0.wav', 'e7d0eb3f_nohash_1.wav', 'f5e44d34_nohash_1.wav', '39543cfd_nohash_0.wav', 'f19c1390_nohash_3.wav', 'd5c41d6a_nohash_0.wav', '28e47b1a_nohash_2.wav', 'bf4af1af_nohash_1.wav', 'd78858d9_nohash_2.wav', 'ba59cab3_nohash_1.wav', '659b7fae_nohash_0.wav', 'da2c5f1b_nohash_0.wav', '57cb3575_nohash_1.wav', '46a153d8_nohash_2.wav', 'f2dd248e_nohash_0.wav', 'd90b4138_nohash_0.wav', '8830e17f_nohash_0.wav', '161fcca8_nohash_0.wav', 'c137814b_nohash_0.wav', 'fde2dee7_nohash_1.wav', 'f9318c93_nohash_0.wav', 'c24d96eb_nohash_0.wav', 'a4b21cbc_nohash_0.wav', 'c120e80e_nohash_1.wav', 'e8d562ca_nohash_0.wav', '2275edbb_nohash_0.wav', '86648261_nohash_0.wav', '2039b9c1_nohash_1.wav', '9aa21fa9_nohash_4.wav', 'c103a2d5_nohash_1.wav', '03c96658_nohash_0.wav', '325a0c39_nohash_0.wav', '8a0457c9_nohash_0.wav', '7192fddc_nohash_0.wav', '14872d06_nohash_0.wav', '9b6c08ba_nohash_0.wav', '51055bda_nohash_1.wav', '09ddc105_nohash_0.wav', 'a84dee7b_nohash_0.wav', '84d1e469_nohash_0.wav', '6a27a9bf_nohash_1.wav', 'b31ad508_nohash_0.wav', '4f2ab70c_nohash_2.wav', '617de221_nohash_4.wav', '748cb308_nohash_0.wav', '92e17cc4_nohash_0.wav', '5eb5fc74_nohash_1.wav', 'b43de700_nohash_1.wav', '29b81b73_nohash_0.wav', '9aa21fa9_nohash_3.wav', 'f804cbb3_nohash_1.wav', 'e77d88fc_nohash_1.wav', '413997c1_nohash_0.wav', 'a24cf51c_nohash_0.wav', '5f1b1051_nohash_1.wav', '7d149b38_nohash_1.wav', '28ed6bc9_nohash_2.wav', '4beff0c5_nohash_2.wav', '7846fd85_nohash_4.wav', '1f3bece8_nohash_0.wav', '0c2d2ffa_nohash_0.wav', '3d53244b_nohash_0.wav', '7cb5c0b7_nohash_1.wav', '2aec99ec_nohash_0.wav', '1b4c9b89_nohash_1.wav', '73124b26_nohash_1.wav', 'f19c1390_nohash_2.wav', 'f17be97f_nohash_4.wav', '8eb4a1bf_nohash_3.wav', '617de221_nohash_2.wav', 'df1d5024_nohash_4.wav', '48bfde8e_nohash_0.wav', 'be91a00a_nohash_0.wav', '6846af18_nohash_1.wav', '01648c51_nohash_1.wav', '80f056c0_nohash_0.wav', 'a1dd919f_nohash_0.wav', 'bdb90d38_nohash_0.wav', 'f804cbb3_nohash_0.wav', 'd1a4fb3f_nohash_0.wav', '695c2127_nohash_1.wav', '35d1b6ee_nohash_2.wav', 'ad63d93c_nohash_1.wav', '5c8af87a_nohash_4.wav', '56f8a100_nohash_0.wav', '11321027_nohash_0.wav', 'f17be97f_nohash_1.wav', '2f0a410b_nohash_0.wav', 'a5b24175_nohash_1.wav', 'e9287461_nohash_0.wav', 'e6be0830_nohash_0.wav', 'f35eedd7_nohash_0.wav', '9229bff9_nohash_0.wav', '59c3a7f2_nohash_0.wav', 'dea820ce_nohash_0.wav', '62ef962d_nohash_1.wav', 'c103a2d5_nohash_2.wav', 'fde2dee7_nohash_0.wav', '24c9f572_nohash_2.wav', '8012c69d_nohash_1.wav', '6c968bd9_nohash_2.wav', '41285056_nohash_2.wav', '48a8a69d_nohash_0.wav', '7fd25f7c_nohash_1.wav', '363c6bad_nohash_5.wav', '0135f3f2_nohash_0.wav', '1528225c_nohash_0.wav', '151bfb79_nohash_0.wav', '01d22d03_nohash_0.wav', '93ec8b84_nohash_0.wav', 'fd395b74_nohash_2.wav', 'edc53350_nohash_1.wav', 'd78858d9_nohash_0.wav', '5b09db89_nohash_1.wav', '48bdc11c_nohash_0.wav', '5ab63b0a_nohash_0.wav', '9886d8bf_nohash_1.wav', '3565ca83_nohash_0.wav', 'dec73123_nohash_0.wav', '7e1054e7_nohash_1.wav', '15c563d7_nohash_3.wav', '27c30960_nohash_0.wav', '53578f4e_nohash_1.wav', '4a0e2c16_nohash_0.wav', '28e47b1a_nohash_1.wav', '3b8406c0_nohash_0.wav', '311fde72_nohash_1.wav', '10ace7eb_nohash_0.wav', 'e4200516_nohash_0.wav', '1eddce1d_nohash_1.wav', 'cc3d1613_nohash_0.wav', '748cb308_nohash_1.wav', '25132942_nohash_1.wav', '9db2bfe9_nohash_3.wav', 'a3fc7884_nohash_1.wav', 'f9f9751d_nohash_0.wav', '2a89ad5c_nohash_1.wav', '29fb33da_nohash_0.wav', '1df99a8a_nohash_0.wav', '4f256313_nohash_1.wav', '10ace7eb_nohash_2.wav', '96a48d28_nohash_3.wav', '97101ef3_nohash_0.wav', 'd84829e0_nohash_2.wav', 'ece1a95a_nohash_0.wav', 'd0faf7e4_nohash_7.wav', '5c8af87a_nohash_0.wav', '6c429c7b_nohash_1.wav', '1ffd513b_nohash_0.wav', 'e04d7130_nohash_1.wav', '9a4d12fd_nohash_1.wav', '3ab9ba07_nohash_2.wav', '4e8c5516_nohash_0.wav', 'da15e796_nohash_0.wav', '1093c8e7_nohash_0.wav', '311fde72_nohash_0.wav', 'ccb1266b_nohash_2.wav', 'c1d39ce8_nohash_1.wav', '9c06a3f3_nohash_1.wav', '563aa4e6_nohash_0.wav', '56eb74ae_nohash_0.wav', '876c84d6_nohash_0.wav', 'b9f46737_nohash_4.wav', 'f174517e_nohash_0.wav', '31e686d2_nohash_1.wav', 'b97c9f77_nohash_4.wav', '0137b3f4_nohash_2.wav', 'd952a17e_nohash_0.wav', 'b9f46737_nohash_3.wav', 'ec201020_nohash_3.wav', 'c2df23b2_nohash_0.wav', '28e47b1a_nohash_3.wav', 'ab7b5acd_nohash_0.wav', '918a2473_nohash_3.wav', '5fb88f4c_nohash_0.wav', '1cc80e39_nohash_1.wav', '37d38e44_nohash_0.wav', '0b40aa8e_nohash_0.wav', '1eddce1d_nohash_0.wav', '28ce0c58_nohash_3.wav', 'af405b69_nohash_0.wav', 'c392e01d_nohash_2.wav', '4f256313_nohash_0.wav', 'bab36420_nohash_4.wav', '333784b7_nohash_2.wav', '84999496_nohash_0.wav', 'aff582a1_nohash_1.wav', 'c2e08f08_nohash_0.wav', '2296b1af_nohash_2.wav', '1b63157b_nohash_5.wav', 'cb2929ce_nohash_0.wav', '8fce59ff_nohash_1.wav', 'f8ad3941_nohash_0.wav', '9ff2d2f4_nohash_0.wav', '742d6431_nohash_2.wav', 'd312f481_nohash_1.wav', '919d3c0e_nohash_0.wav', '462e1919_nohash_1.wav', '6982fc2a_nohash_1.wav', '918a2473_nohash_1.wav', '122c5aa7_nohash_2.wav', 'bd8412df_nohash_0.wav', '422f8cf1_nohash_0.wav', 'ec21c46b_nohash_0.wav', '92b2bf59_nohash_0.wav', 'd430b3cc_nohash_0.wav', 'aeb99b1c_nohash_0.wav', '1cb788bc_nohash_0.wav', 'fe5c4a7a_nohash_0.wav', '6c0f6493_nohash_4.wav', '31e686d2_nohash_0.wav', 'b72e58c9_nohash_0.wav', '2bd2cad5_nohash_0.wav', '735845ab_nohash_1.wav', '324210dd_nohash_3.wav', 'c6a23ff5_nohash_0.wav', '56eb74ae_nohash_2.wav', '7c1d8533_nohash_0.wav', '8a28231e_nohash_0.wav', '171b56dc_nohash_0.wav', '50ed8a7b_nohash_2.wav', 'b43de700_nohash_0.wav', 'e649aa92_nohash_0.wav', '745a8e32_nohash_1.wav', '4f2be90f_nohash_0.wav', '2c6d3924_nohash_1.wav', '8dd788d8_nohash_0.wav', 'afabfa0e_nohash_0.wav', '324210dd_nohash_1.wav', '3d53244b_nohash_1.wav', 'fce96bac_nohash_1.wav', '3c257192_nohash_1.wav', '8830e17f_nohash_3.wav', 'b52bd596_nohash_0.wav', 'fb01a182_nohash_0.wav', 'acde7e73_nohash_0.wav', '39a45230_nohash_0.wav', '6adb8ad9_nohash_0.wav', '190821dc_nohash_4.wav', '70a00e98_nohash_3.wav', '023808be_nohash_0.wav', 'c4e1f6e0_nohash_0.wav', 'd486fb84_nohash_0.wav', 'cb2929ce_nohash_3.wav', '39a45230_nohash_1.wav', '1aeef15e_nohash_1.wav', '324210dd_nohash_0.wav', 'f5733968_nohash_1.wav', '6f689791_nohash_0.wav', '3bc21161_nohash_1.wav', '7799c9cd_nohash_1.wav', 'afe0b87d_nohash_0.wav', '60472d26_nohash_0.wav', 'ad63d93c_nohash_3.wav', 'ae927455_nohash_0.wav', 'eb0676ec_nohash_3.wav', '56eb74ae_nohash_3.wav', '2df590cd_nohash_0.wav', '026290a7_nohash_0.wav', '735845ab_nohash_2.wav', '1a892463_nohash_0.wav', '41285056_nohash_4.wav', 'e10e2cbb_nohash_0.wav', '229978fd_nohash_2.wav', 'bfaf2000_nohash_0.wav', '37dca74f_nohash_3.wav', 'c0445658_nohash_0.wav', '902258bb_nohash_0.wav', '8d9cc260_nohash_4.wav', '2197f41c_nohash_1.wav', '402e2977_nohash_0.wav', 'a6d586b7_nohash_4.wav', '92b0a735_nohash_0.wav', 'd9d6559e_nohash_0.wav', '07c5129e_nohash_0.wav', '794cdfc5_nohash_0.wav', 'bbaa7946_nohash_0.wav', '72d75d96_nohash_0.wav', 'a0f93943_nohash_1.wav', 'abbfc3b4_nohash_1.wav', 'e54a0f16_nohash_4.wav', 'df1d5024_nohash_2.wav', '9b5815cd_nohash_0.wav', '64da5281_nohash_0.wav', '9b402bc2_nohash_1.wav', 'c0445658_nohash_1.wav', '71f6fed7_nohash_0.wav', '34263ab3_nohash_1.wav', '6c0f6493_nohash_2.wav', '01bb6a2a_nohash_4.wav', 'e0315cf6_nohash_3.wav', 'cd7f8c1b_nohash_1.wav', '49af4432_nohash_3.wav', 'e8e960fd_nohash_2.wav', '7ea032f3_nohash_2.wav', 'ccf418a5_nohash_1.wav', 'fd395b74_nohash_3.wav', '29fb33da_nohash_4.wav', '012c8314_nohash_0.wav', 'cb164eea_nohash_1.wav', 'f5733968_nohash_4.wav', 'ad63d93c_nohash_2.wav', '9a43b64b_nohash_0.wav', 'ec201020_nohash_4.wav', 'c0445658_nohash_3.wav', '2bdbe5f7_nohash_3.wav', 'bab36420_nohash_3.wav', 'fb7c9b3b_nohash_0.wav', 'db9cd41d_nohash_1.wav', '8c7f81df_nohash_0.wav', '8830e17f_nohash_2.wav', '3f2b358d_nohash_3.wav', '98582fee_nohash_0.wav', '1df483c0_nohash_0.wav', '62581901_nohash_1.wav', '140a0fdc_nohash_1.wav', '7211390b_nohash_0.wav', '73af0c50_nohash_0.wav', '5c39594f_nohash_0.wav', 'b4aa9fef_nohash_3.wav', '6f3458b3_nohash_1.wav', '07ad9b59_nohash_1.wav', '9b6c08ba_nohash_2.wav', '421ed23f_nohash_1.wav', '238c112c_nohash_1.wav', '264f471d_nohash_3.wav', '1a673010_nohash_2.wav', '708a9569_nohash_0.wav', 'b00dff7e_nohash_0.wav', '99fad6a0_nohash_0.wav', '7096522d_nohash_0.wav', '48bfde8e_nohash_1.wav', 'c1d39ce8_nohash_0.wav', 'e7ea8b76_nohash_2.wav', '5c8af87a_nohash_3.wav', '97addd88_nohash_0.wav', 'f9273a21_nohash_0.wav', 'f5733968_nohash_3.wav', '6c968bd9_nohash_4.wav', 'eb0676ec_nohash_1.wav', '19b05529_nohash_0.wav', '96ab6565_nohash_4.wav', '7ca023e2_nohash_0.wav', '37dca74f_nohash_4.wav', 'c120e80e_nohash_6.wav', '46a153d8_nohash_1.wav', 'f0ac2522_nohash_1.wav', 'be7a5b2d_nohash_3.wav', 'ece1a95a_nohash_1.wav', 'b5552931_nohash_3.wav', 'f34e6f44_nohash_2.wav', 'dca2797e_nohash_2.wav', '953fe1ad_nohash_2.wav', '459345ea_nohash_0.wav', 'be7a5b2d_nohash_0.wav', '23059a35_nohash_0.wav', '735845ab_nohash_3.wav', 'e269bac0_nohash_0.wav', '1aed7c6d_nohash_0.wav', 'f8ad3941_nohash_1.wav', 'fd395b74_nohash_1.wav', '6205088b_nohash_2.wav', 'cb8f8307_nohash_2.wav', '6c0f6493_nohash_1.wav', '61a9f72a_nohash_0.wav', '611d2b50_nohash_1.wav', 'a4c938ce_nohash_1.wav', '51995cea_nohash_0.wav', 'b97c9f77_nohash_3.wav', 'da5dadb9_nohash_1.wav', '8e884ec4_nohash_0.wav', 'cae62f38_nohash_1.wav', 'e72aa705_nohash_1.wav', '3c257192_nohash_4.wav', '834f03fe_nohash_3.wav', '53d5b86f_nohash_1.wav', '8012c69d_nohash_0.wav', 'e53139ad_nohash_4.wav', '4beff0c5_nohash_0.wav', '8134f43f_nohash_4.wav', 'f816db77_nohash_0.wav', '6f5b4d3d_nohash_0.wav', '7c2a3fa4_nohash_0.wav', '67fcdb05_nohash_0.wav', '89f680f3_nohash_0.wav', '512dc91a_nohash_0.wav', '7d5f87c8_nohash_1.wav', '37dca74f_nohash_2.wav', '70a00e98_nohash_1.wav', '65f2531f_nohash_3.wav', 'b6ebe225_nohash_0.wav', '8dd24423_nohash_0.wav', '96a48d28_nohash_4.wav', '8281a2a8_nohash_2.wav', 'ad89eb1e_nohash_1.wav', '4fe01997_nohash_0.wav', '41285056_nohash_0.wav', 'fbe51750_nohash_0.wav', '9785931e_nohash_0.wav', 'c634a189_nohash_4.wav', '2bfe70ef_nohash_0.wav', '1b63157b_nohash_0.wav', '042186b8_nohash_1.wav', 'd90b4138_nohash_4.wav', '7117fb6d_nohash_0.wav', '3209ec42_nohash_0.wav', '881583a6_nohash_0.wav', '41285056_nohash_3.wav', '07ad9b59_nohash_0.wav', 'd3a18257_nohash_0.wav', '069ab0d5_nohash_1.wav', '9b3ea809_nohash_0.wav', '493392c6_nohash_0.wav', 'bf4af1af_nohash_0.wav', '6f2c6f7e_nohash_0.wav', 'c120e80e_nohash_9.wav', '042186b8_nohash_2.wav', '888a0c49_nohash_0.wav', '1cbcc7a7_nohash_0.wav', 'ccb1266b_nohash_0.wav', 'ca58a8c6_nohash_0.wav', '3bfd30e6_nohash_1.wav', '35d1b6ee_nohash_0.wav', 'd0faf7e4_nohash_2.wav', 'c103a2d5_nohash_0.wav', '92e17cc4_nohash_1.wav', '7d5f87c8_nohash_0.wav', 'fa44fcf5_nohash_3.wav', '3ab9ba07_nohash_1.wav', '43691f67_nohash_0.wav', 'cc6ee39b_nohash_3.wav', 'c08e5058_nohash_0.wav', '708b8d51_nohash_1.wav', '4634529e_nohash_1.wav', 'ced835d3_nohash_0.wav', '763188c4_nohash_1.wav', 'e04d7130_nohash_3.wav', '32561e9e_nohash_1.wav', '32561e9e_nohash_0.wav', 'adec6a94_nohash_1.wav', '4e8c5516_nohash_1.wav', 'cc6ee39b_nohash_1.wav', 'c25a032b_nohash_2.wav', 'd197e3ae_nohash_1.wav', '2197f41c_nohash_2.wav', '7cf14c54_nohash_0.wav', '39a12648_nohash_1.wav', '0ab3b47d_nohash_0.wav', '8e05039f_nohash_3.wav', 'a2b16113_nohash_0.wav', 'bd2db1a5_nohash_0.wav', '65040d9b_nohash_0.wav', 'f33660af_nohash_0.wav', '53578f4e_nohash_0.wav', 'ec201020_nohash_0.wav', '65f2531f_nohash_1.wav', '65d844fc_nohash_0.wav', 'ced4e2a1_nohash_0.wav', 'c120e80e_nohash_7.wav', '10467b06_nohash_0.wav', '5705a0f9_nohash_1.wav', '5828dfa2_nohash_0.wav', '3367cff6_nohash_0.wav', '8c888bbb_nohash_0.wav', 'b5935410_nohash_0.wav', '96ab6565_nohash_1.wav', 'eb3f7d82_nohash_1.wav', '15574821_nohash_1.wav', '6c6aa323_nohash_0.wav', 'b97c9f77_nohash_2.wav', '8b39e36f_nohash_0.wav', 'd31d8dd7_nohash_1.wav', '43fc47a7_nohash_0.wav', '51055bda_nohash_2.wav', '85b877b5_nohash_0.wav', '370844f7_nohash_0.wav', '58df33b5_nohash_1.wav', 'ee4a907f_nohash_0.wav', 'a6d586b7_nohash_1.wav', '9a7c1f83_nohash_4.wav', 'e6e29c47_nohash_0.wav', '46a153d8_nohash_0.wav', '61bcb275_nohash_0.wav', 'e9287461_nohash_1.wav', 'aa48c94a_nohash_0.wav', 'c38720cb_nohash_0.wav', '8134f43f_nohash_1.wav', '7ff085e1_nohash_1.wav', 'f7879738_nohash_1.wav', 'b7a0754f_nohash_4.wav', '035de8fe_nohash_0.wav', 'cb8f8307_nohash_3.wav', 'b0bad4a9_nohash_2.wav', '439c84f4_nohash_0.wav', '02fcd241_nohash_0.wav', '15c563d7_nohash_0.wav', '97ae8b25_nohash_0.wav', '060cd039_nohash_0.wav', 'f953e1af_nohash_1.wav', 'd4d898d7_nohash_0.wav', '8ec6dab6_nohash_0.wav', '05739450_nohash_0.wav', '6c429c7b_nohash_0.wav', '4634529e_nohash_2.wav', '3e31dffe_nohash_3.wav', '9b027ecf_nohash_1.wav', 'b36c27c2_nohash_0.wav', 'a5609cce_nohash_0.wav', 'c9b653a0_nohash_2.wav', '8c7f81df_nohash_1.wav', 'b7669804_nohash_0.wav', '76424fa5_nohash_1.wav', 'ced835d3_nohash_1.wav', 'baf01c1f_nohash_0.wav', '2e0d80f7_nohash_0.wav', '11b1df78_nohash_0.wav', 'b00c4c53_nohash_1.wav', '2510c044_nohash_0.wav', '826268f8_nohash_0.wav', 'abbfc3b4_nohash_0.wav', '56cd307a_nohash_1.wav', 'b5552931_nohash_0.wav', '712e4d58_nohash_4.wav', 'baeac2ba_nohash_3.wav', 'e7334395_nohash_2.wav', '327289eb_nohash_0.wav', '40115b19_nohash_0.wav', 'caa7feaf_nohash_0.wav', '48e8b82a_nohash_0.wav', 'ccf418a5_nohash_0.wav', '3ffa3457_nohash_0.wav', 'f5c3de1b_nohash_0.wav', 'b5aacf2c_nohash_0.wav', 'c84f9b5c_nohash_0.wav', '735845ab_nohash_4.wav', '15c563d7_nohash_4.wav', '10ace7eb_nohash_1.wav', '7799c9cd_nohash_0.wav', '30802c5d_nohash_0.wav', 'f9af0887_nohash_1.wav', '99e6cab8_nohash_0.wav', '324210dd_nohash_4.wav', '573cdb8a_nohash_0.wav', 'f638a812_nohash_0.wav', 'c0445658_nohash_2.wav', '172dc2b0_nohash_0.wav', '951cac20_nohash_0.wav', '422d3197_nohash_0.wav', '7846fd85_nohash_1.wav', '8012c69d_nohash_3.wav', 'ae71797c_nohash_0.wav', 'c22d3f18_nohash_1.wav', '86f12ac0_nohash_0.wav', 'c22d3f18_nohash_2.wav', 'f6617a86_nohash_2.wav', 'f839238a_nohash_0.wav', 'c948d727_nohash_0.wav', 'c08585c1_nohash_0.wav', '7cf14c54_nohash_1.wav', '35d1b6ee_nohash_4.wav', 'bdee441c_nohash_3.wav', 'c634a189_nohash_0.wav', '8056e897_nohash_0.wav', '80b8eab4_nohash_0.wav', 'b83c1acf_nohash_0.wav', 'c2aeb59d_nohash_0.wav', '4249c833_nohash_1.wav', '9080f6d3_nohash_0.wav', '0f7dc557_nohash_0.wav', 'ab81c9c8_nohash_0.wav', 'd312f481_nohash_0.wav', '01d22d03_nohash_1.wav', '652b3da7_nohash_1.wav', 'da1d320c_nohash_0.wav', '9f869f70_nohash_1.wav', 'da2c5f1b_nohash_2.wav', 'fbdc07bb_nohash_0.wav', '434a267c_nohash_0.wav', '3c257192_nohash_0.wav', '6c0f6493_nohash_3.wav', '7211390b_nohash_1.wav', '1b4c9b89_nohash_2.wav', 'f3cee168_nohash_0.wav', '471a0925_nohash_4.wav', 'b4bef564_nohash_0.wav', '97ae8b25_nohash_1.wav', '8c7b691a_nohash_0.wav', 'f19c1390_nohash_1.wav', '42ccb57a_nohash_0.wav', 'da4ef063_nohash_1.wav', 'dc2222d7_nohash_1.wav', 'ec21c46b_nohash_1.wav', 'ec5ab5d5_nohash_0.wav', '50f55535_nohash_0.wav', '5588c7e6_nohash_0.wav', 'dd6c6806_nohash_1.wav', '1746d7b6_nohash_0.wav', 'eb0857c0_nohash_0.wav', 'e04d7130_nohash_0.wav', '3bc21161_nohash_4.wav', 'd9ae8983_nohash_0.wav', '15b0c947_nohash_0.wav', '36050ef3_nohash_0.wav', '21832144_nohash_0.wav', '5184ed3e_nohash_0.wav', '1d919a90_nohash_0.wav', '03cf93b1_nohash_1.wav', 'e269bac0_nohash_1.wav', 'b83c1acf_nohash_4.wav', 'd53e25ba_nohash_0.wav', 'b5552931_nohash_4.wav', '3ac2e76f_nohash_0.wav', '0397ecda_nohash_0.wav', '0362539c_nohash_0.wav', '099d52ad_nohash_4.wav', 'db72a474_nohash_0.wav', '0132a06d_nohash_3.wav', '24befdb3_nohash_2.wav', '234ab0fb_nohash_0.wav', 'e53139ad_nohash_0.wav', '977a3be4_nohash_0.wav', '9c59dd28_nohash_0.wav', 'aa753bb9_nohash_0.wav', '8931f494_nohash_1.wav', '5e3dde6b_nohash_1.wav', 'b5552931_nohash_1.wav', '25132942_nohash_3.wav', '953fe1ad_nohash_3.wav', 'd9b50b8b_nohash_0.wav', 'd0faf7e4_nohash_0.wav', '7ea032f3_nohash_1.wav', '88a487ce_nohash_0.wav', 'e7ea8b76_nohash_0.wav', 'aff582a1_nohash_4.wav', '0c5027de_nohash_0.wav', 'e0a7c5a0_nohash_1.wav', '57376a4c_nohash_0.wav', '96ab6565_nohash_0.wav', 'c256377f_nohash_0.wav', '71904de3_nohash_0.wav', '3006c271_nohash_0.wav', '686d030b_nohash_2.wav', '8eb4a1bf_nohash_4.wav', 'b41a92a3_nohash_0.wav', 'b959cd0c_nohash_1.wav', '66cff190_nohash_0.wav', '060cd039_nohash_1.wav', 'cae62f38_nohash_0.wav', '9efe5140_nohash_1.wav', 'df1d5024_nohash_0.wav', '6c2dd2d5_nohash_0.wav', '1ecfb537_nohash_4.wav', 'ac4b3fc3_nohash_1.wav', '1ed557b9_nohash_0.wav', '6727b579_nohash_1.wav', '1a673010_nohash_1.wav', '333784b7_nohash_3.wav', 'c727b558_nohash_0.wav', 'f264e0df_nohash_0.wav', '94de6a6a_nohash_0.wav', '3f339c33_nohash_0.wav', 'a1cff772_nohash_2.wav', 'fc94edb0_nohash_0.wav', '97f4c236_nohash_2.wav', 'ffd2ba2f_nohash_0.wav', '8a5acefd_nohash_0.wav', '9b6c08ba_nohash_1.wav', 'f6617a86_nohash_0.wav', '48e8b82a_nohash_1.wav', '106a6183_nohash_4.wav', '4c62312c_nohash_0.wav', 'cb8f8307_nohash_5.wav', '8ea22de7_nohash_0.wav', 'f92e49f3_nohash_0.wav', '3e31dffe_nohash_2.wav', 'cb8f8307_nohash_7.wav', '9aa21fa9_nohash_0.wav', '5195f0ec_nohash_0.wav', 'c634a189_nohash_3.wav', '742d6431_nohash_3.wav', 'ced835d3_nohash_4.wav', 'e0344f60_nohash_1.wav', 'f4cae173_nohash_0.wav', '2f666bb2_nohash_0.wav', 'a7545b9f_nohash_1.wav', 'ad6a46f1_nohash_0.wav', 'eee5e541_nohash_1.wav', 'f34e6f44_nohash_0.wav', 'ff21fb59_nohash_0.wav', 'f0ac2522_nohash_0.wav', '23059a35_nohash_1.wav', 'fa44fcf5_nohash_1.wav', '3efa7ec4_nohash_0.wav', '5c237956_nohash_0.wav', '54d9ccb5_nohash_1.wav', 'cf68fad2_nohash_1.wav', '73124b26_nohash_0.wav', 'bbd0bbd0_nohash_1.wav', '24694eb6_nohash_0.wav', '7cbf645a_nohash_0.wav', 'b7a0754f_nohash_3.wav', 'cce17a61_nohash_0.wav', 'f3957e23_nohash_0.wav', 'f92e49f3_nohash_1.wav', 'dce05676_nohash_0.wav', '4620dc14_nohash_0.wav', 'e7ea8b76_nohash_3.wav', 'ac4b3fc3_nohash_0.wav', 'c9b653a0_nohash_1.wav', 'b4aa9fef_nohash_1.wav', 'db8a3397_nohash_3.wav', '7fd25f7c_nohash_2.wav', '0f7205ef_nohash_0.wav', 'ceaadb24_nohash_2.wav', '50928b05_nohash_0.wav', '6301e683_nohash_0.wav', 'd197e3ae_nohash_3.wav', '3f2b358d_nohash_2.wav', '840eab5a_nohash_0.wav', 'b87bdb22_nohash_1.wav', '748cb308_nohash_2.wav', 'a6d586b7_nohash_2.wav', 'd8a5ace5_nohash_0.wav', 'c08e5058_nohash_1.wav', 'dabf67d9_nohash_0.wav', '1b63157b_nohash_4.wav', '72320401_nohash_1.wav', '29fb33da_nohash_2.wav', 'e98cb283_nohash_0.wav', '6a2fb9a5_nohash_0.wav', 'dca2797e_nohash_0.wav', 'a8e25ebb_nohash_0.wav', '106a6183_nohash_0.wav', '122c5aa7_nohash_3.wav', '2f0a410b_nohash_1.wav', 'ad63d93c_nohash_0.wav', '7f74626f_nohash_2.wav', '4c4d2526_nohash_0.wav', '5705a0f9_nohash_0.wav', 'b2e2773a_nohash_0.wav', '44dad20e_nohash_0.wav', '8549f25d_nohash_0.wav', 'b7a6f709_nohash_0.wav', '5677ec77_nohash_0.wav', 'bab36420_nohash_0.wav', 'cb2929ce_nohash_6.wav', '8f4c551f_nohash_1.wav', '6094340e_nohash_0.wav', '778a4a01_nohash_0.wav', '8a28231e_nohash_1.wav', '50f55535_nohash_1.wav', '38d78313_nohash_2.wav', 'fb7c9b3b_nohash_1.wav', '7910d292_nohash_0.wav', '2d3c8dcb_nohash_0.wav', '6a203e0e_nohash_0.wav', '122c5aa7_nohash_0.wav', '2bdbe5f7_nohash_1.wav', 'a19452d5_nohash_0.wav', '49af4432_nohash_2.wav', 'f0ae7203_nohash_1.wav', 'e805a617_nohash_0.wav', '863880b7_nohash_0.wav', '77def3ee_nohash_1.wav', '229978fd_nohash_0.wav', '3ff840aa_nohash_1.wav', 'e96a5020_nohash_1.wav', 'a4e8a997_nohash_0.wav', '8134f43f_nohash_2.wav', '3bfd30e6_nohash_2.wav', '190821dc_nohash_2.wav', '8931f494_nohash_0.wav', '7c1d8533_nohash_2.wav', 'c8771f88_nohash_0.wav', 'bd11a2e7_nohash_0.wav', '5b26c81b_nohash_0.wav', 'af7a8296_nohash_0.wav', '530306f5_nohash_1.wav', '5f814c23_nohash_1.wav', '8ed25ef8_nohash_0.wav', '20d3f11f_nohash_0.wav', 'c2d15ea5_nohash_1.wav', '462e1919_nohash_0.wav', 'b49caed3_nohash_3.wav', '370844f7_nohash_1.wav', 'e6db3894_nohash_0.wav', 'e32ff49d_nohash_0.wav', '66774579_nohash_0.wav', 'e3b64217_nohash_0.wav', '92037d73_nohash_1.wav', '58df33b5_nohash_0.wav', '106a6183_nohash_3.wav', '84999496_nohash_2.wav', '0135f3f2_nohash_1.wav', '6c429c7b_nohash_2.wav', '5c39594f_nohash_4.wav', 'b84f83d2_nohash_1.wav', '94de6a6a_nohash_4.wav', '563aa4e6_nohash_1.wav', 'ea9f8e11_nohash_0.wav', 'caedb73a_nohash_0.wav', '1b755c65_nohash_0.wav', 'a5b24175_nohash_2.wav', 'd1214f15_nohash_1.wav', '528f9242_nohash_0.wav', '3ab9ba07_nohash_0.wav', 'eee5e541_nohash_0.wav', '834f03fe_nohash_2.wav', '95299b6c_nohash_0.wav', '7f74626f_nohash_4.wav', '68dd409e_nohash_0.wav', 'c0c0d87d_nohash_0.wav', '8012c69d_nohash_4.wav', '2296b1af_nohash_1.wav', 'd90b4138_nohash_3.wav', '9ff2d2f4_nohash_3.wav', 'e6db3894_nohash_1.wav', '52bfbce8_nohash_0.wav', 'db8a3397_nohash_2.wav', '44bc77f7_nohash_1.wav', '763188c4_nohash_4.wav', '1a673010_nohash_0.wav', 'f1d36c53_nohash_0.wav', '42beb5eb_nohash_1.wav', 'c6ee87a7_nohash_3.wav', '0f3f64d5_nohash_1.wav', '179a61b7_nohash_1.wav', '004ae714_nohash_0.wav', '16d41d07_nohash_1.wav', '924c1a04_nohash_0.wav', '518588b6_nohash_0.wav', '4f781a59_nohash_0.wav', '151bfb79_nohash_1.wav', 'ca58a8c6_nohash_2.wav', 'b575b5fb_nohash_0.wav', 'c099668c_nohash_0.wav', '10ace7eb_nohash_3.wav', '15f04ff8_nohash_0.wav', '695c2127_nohash_0.wav', 'c93d5e22_nohash_1.wav', '742d6431_nohash_4.wav', '964e8cfd_nohash_2.wav', 'c8db14a8_nohash_2.wav', 'af30314d_nohash_0.wav', '4f2ab70c_nohash_4.wav', 'a1cff772_nohash_1.wav', '03cf93b1_nohash_0.wav', '0685264e_nohash_0.wav', '019fa366_nohash_1.wav', 'c7124b73_nohash_0.wav', '3402e488_nohash_4.wav', '7d8babdb_nohash_0.wav', 'b49caed3_nohash_0.wav', 'a6d586b7_nohash_0.wav', '7ab5b8f7_nohash_0.wav', '5a3712c9_nohash_0.wav', '5c39594f_nohash_1.wav', 'f5e44d34_nohash_0.wav', '4a1e736b_nohash_1.wav', 'a1cff772_nohash_3.wav', 'c120e80e_nohash_3.wav', 'fac74f6a_nohash_0.wav', '62605293_nohash_0.wav', '264f471d_nohash_1.wav', 'd2eae23d_nohash_0.wav', 'd197e3ae_nohash_0.wav', '3f2b358d_nohash_0.wav', 'adebe223_nohash_0.wav', '36050ef3_nohash_2.wav', 'cd85758f_nohash_4.wav', '589bce2c_nohash_0.wav', 'cb8f8307_nohash_4.wav', 'adec6a94_nohash_0.wav', 'd3f22f0e_nohash_0.wav', '24c9f572_nohash_1.wav', '8f3f252c_nohash_0.wav', '402e2977_nohash_1.wav', '179a61b7_nohash_3.wav', '47d01978_nohash_0.wav', '837f7378_nohash_0.wav', '25132942_nohash_4.wav', '0132a06d_nohash_1.wav', 'b737ee80_nohash_0.wav', 'c79159aa_nohash_1.wav', 'ba676390_nohash_0.wav', 'c120e80e_nohash_8.wav', '620ff0fa_nohash_0.wav', '36050ef3_nohash_4.wav', 'afd53389_nohash_0.wav', '5b09db89_nohash_0.wav', '7e843da8_nohash_1.wav', '86402da1_nohash_2.wav', '8f811bbc_nohash_1.wav', '52e228e9_nohash_0.wav', '92037d73_nohash_0.wav', 'c1e0e8e3_nohash_4.wav', '1942abd7_nohash_0.wav', 'cb164eea_nohash_0.wav', '5188de0d_nohash_1.wav', '11b1df78_nohash_2.wav', 'b80d6c5e_nohash_0.wav', '3903b558_nohash_0.wav', '65f2531f_nohash_0.wav', 'e5afa9b0_nohash_0.wav', '28ed6bc9_nohash_1.wav', '62641b88_nohash_0.wav', '4845bb10_nohash_1.wav', '3aa6f4e2_nohash_0.wav', 'c68cf200_nohash_1.wav', '377e916b_nohash_0.wav', 'f638a812_nohash_1.wav', '8781f4c1_nohash_1.wav', 'f63a6479_nohash_0.wav', '106a6183_nohash_1.wav', 'eb3f7d82_nohash_2.wav', '4bb1244f_nohash_0.wav', '30a09789_nohash_0.wav', 'db8a3397_nohash_1.wav', '1365dd89_nohash_0.wav', 'dbb40d24_nohash_4.wav', '00f0204f_nohash_0.wav', '28e47b1a_nohash_0.wav', '7be9f58a_nohash_1.wav', 'e14d3db8_nohash_1.wav', 'ad89eb1e_nohash_2.wav', '8d8d9855_nohash_0.wav', 'e98cb283_nohash_1.wav', '6205088b_nohash_1.wav', '471a0925_nohash_1.wav', '9c59dd28_nohash_2.wav', 'baeac2ba_nohash_1.wav', '9a7c1f83_nohash_0.wav', 'b6ebe225_nohash_1.wav', '735845ab_nohash_0.wav', '81dc4a94_nohash_0.wav', '0ff728b5_nohash_1.wav', '6f2f57c1_nohash_1.wav', 'd430b3cc_nohash_1.wav', 'fce96bac_nohash_0.wav', '6e41a77e_nohash_0.wav', '10627519_nohash_2.wav', 'c90c0105_nohash_0.wav', '1993db46_nohash_0.wav', 'b7a0754f_nohash_0.wav', '745a8e32_nohash_0.wav']\n"
          ]
        }
      ],
      "source": [
        "zip_ref = zipfile.ZipFile('/content/mini_speech_commands.zip', 'r')\n",
        "zip_ref.extractall('/content')\n",
        "zip_ref.close()\n",
        "print(os.listdir(), os.listdir('mini_speech_commands'), os.listdir('mini_speech_commands/yes'), sep = '\\n')"
      ]
    },
    {
      "cell_type": "markdown",
      "source": [
        "#Visualise sample audio"
      ],
      "metadata": {
        "id": "yqh9CD5RYTa6"
      }
    },
    {
      "cell_type": "code",
      "execution_count": 5,
      "metadata": {
        "colab": {
          "base_uri": "https://localhost:8080/",
          "height": 449
        },
        "id": "0prlX-syM7jB",
        "outputId": "8847884f-37c8-4149-de60-99a2617fdb97"
      },
      "outputs": [
        {
          "output_type": "display_data",
          "data": {
            "text/plain": [
              "<Figure size 640x480 with 2 Axes>"
            ],
            "image/png": "[encoded data removed]"
          },
          "metadata": {}
        }
      ],
      "source": [
        "audio, sr = librosa.load('mini_speech_commands/yes/0ac15fe9_nohash_0.wav', sr = 44100, mono = True)\n",
        "fig, ax = plt.subplots(1,2)\n",
        "plt.subplot(1,2,1)\n",
        "librosa.display.waveshow(audio, sr = sr, alpha=0.4)\n",
        "plt.subplot(1,2,2)\n",
        "mel_spectrogram = librosa.feature.melspectrogram(y=audio, sr=sr, n_fft=1024, hop_length=512)\n",
        "mel_spectrogram = librosa.power_to_db(mel_spectrogram, ref=np.max)\n",
        "librosa.display.specshow(mel_spectrogram, y_axis='mel', x_axis='time')\n",
        "plt.show()"
      ]
    },
    {
      "cell_type": "code",
      "execution_count": 6,
      "metadata": {
        "colab": {
          "base_uri": "https://localhost:8080/"
        },
        "id": "jeMUQZEmOeBM",
        "outputId": "a8a0faa0-fd29-4450-a5eb-19bb58216935"
      },
      "outputs": [
        {
          "output_type": "stream",
          "name": "stdout",
          "text": [
            "[[-32.63741  -27.841562 -28.268536 ... -27.365864 -27.74587  -28.955196]\n",
            " [-33.32238  -28.018156 -29.178457 ... -28.111403 -28.252665 -29.478096]\n",
            " [-33.818214 -27.295713 -30.410023 ... -28.789806 -28.264738 -29.530972]\n",
            " ...\n",
            " [-80.       -80.       -80.       ... -80.       -80.       -80.      ]\n",
            " [-80.       -80.       -80.       ... -80.       -80.       -80.      ]\n",
            " [-80.       -80.       -80.       ... -80.       -80.       -80.      ]]\n"
          ]
        }
      ],
      "source": [
        "print(mel_spectrogram)"
      ]
    },
    {
      "cell_type": "markdown",
      "source": [
        "#Load data from dataset and preprocess it"
      ],
      "metadata": {
        "id": "wZJfzHA9YZ6X"
      }
    },
    {
      "cell_type": "code",
      "execution_count": 7,
      "metadata": {
        "colab": {
          "base_uri": "https://localhost:8080/",
          "height": 423
        },
        "id": "Tq9QQUlkUdQS",
        "outputId": "fb8a1b29-d46a-42d6-81e6-4847e8dfc8f2"
      },
      "outputs": [
        {
          "output_type": "execute_result",
          "data": {
            "text/plain": [
              "                                                audio  text\n",
              "0   [[[-77.12065], [-76.70184], [-78.16722], [-78....   yes\n",
              "0   [[[-32.63741], [-27.841562], [-28.268536], [-2...   yes\n",
              "0   [[[-80.0], [-78.78871], [-80.0], [-77.33365], ...   yes\n",
              "0   [[[-28.68789], [-31.772316], [-27.998074], [-2...   yes\n",
              "0   [[[-58.916164], [-52.75513], [-53.535103], [-5...   yes\n",
              "..                                                ...   ...\n",
              "0   [[[-69.776855], [-71.414955], [-70.087616], [-...  left\n",
              "0   [[[-38.089012], [-57.53762], [-47.159195], [-5...  left\n",
              "0   [[[-33.403793], [-29.064983], [-28.110565], [-...  left\n",
              "0   [[[-19.14095], [-15.419655], [-15.115244], [-1...  left\n",
              "0   [[[-52.859108], [-46.408237], [-55.869286], [-...  left\n",
              "\n",
              "[8000 rows x 2 columns]"
            ],
            "text/html": [
              "\n",
              "  <div id=\"df-16a7cb5b-9865-4110-a048-87f06b63b82a\" class=\"colab-df-container\">\n",
              "    <div>\n",
              "<style scoped>\n",
              "    .dataframe tbody tr th:only-of-type {\n",
              "        vertical-align: middle;\n",
              "    }\n",
              "\n",
              "    .dataframe tbody tr th {\n",
              "        vertical-align: top;\n",
              "    }\n",
              "\n",
              "    .dataframe thead th {\n",
              "        text-align: right;\n",
              "    }\n",
              "</style>\n",
              "<table border=\"1\" class=\"dataframe\">\n",
              "  <thead>\n",
              "    <tr style=\"text-align: right;\">\n",
              "      <th></th>\n",
              "      <th>audio</th>\n",
              "      <th>text</th>\n",
              "    </tr>\n",
              "  </thead>\n",
              "  <tbody>\n",
              "    <tr>\n",
              "      <th>0</th>\n",
              "      <td>[[[-77.12065], [-76.70184], [-78.16722], [-78....</td>\n",
              "      <td>yes</td>\n",
              "    </tr>\n",
              "    <tr>\n",
              "      <th>0</th>\n",
              "      <td>[[[-32.63741], [-27.841562], [-28.268536], [-2...</td>\n",
              "      <td>yes</td>\n",
              "    </tr>\n",
              "    <tr>\n",
              "      <th>0</th>\n",
              "      <td>[[[-80.0], [-78.78871], [-80.0], [-77.33365], ...</td>\n",
              "      <td>yes</td>\n",
              "    </tr>\n",
              "    <tr>\n",
              "      <th>0</th>\n",
              "      <td>[[[-28.68789], [-31.772316], [-27.998074], [-2...</td>\n",
              "      <td>yes</td>\n",
              "    </tr>\n",
              "    <tr>\n",
              "      <th>0</th>\n",
              "      <td>[[[-58.916164], [-52.75513], [-53.535103], [-5...</td>\n",
              "      <td>yes</td>\n",
              "    </tr>\n",
              "    <tr>\n",
              "      <th>...</th>\n",
              "      <td>...</td>\n",
              "      <td>...</td>\n",
              "    </tr>\n",
              "    <tr>\n",
              "      <th>0</th>\n",
              "      <td>[[[-69.776855], [-71.414955], [-70.087616], [-...</td>\n",
              "      <td>left</td>\n",
              "    </tr>\n",
              "    <tr>\n",
              "      <th>0</th>\n",
              "      <td>[[[-38.089012], [-57.53762], [-47.159195], [-5...</td>\n",
              "      <td>left</td>\n",
              "    </tr>\n",
              "    <tr>\n",
              "      <th>0</th>\n",
              "      <td>[[[-33.403793], [-29.064983], [-28.110565], [-...</td>\n",
              "      <td>left</td>\n",
              "    </tr>\n",
              "    <tr>\n",
              "      <th>0</th>\n",
              "      <td>[[[-19.14095], [-15.419655], [-15.115244], [-1...</td>\n",
              "      <td>left</td>\n",
              "    </tr>\n",
              "    <tr>\n",
              "      <th>0</th>\n",
              "      <td>[[[-52.859108], [-46.408237], [-55.869286], [-...</td>\n",
              "      <td>left</td>\n",
              "    </tr>\n",
              "  </tbody>\n",
              "</table>\n",
              "<p>8000 rows × 2 columns</p>\n",
              "</div>\n",
              "    <div class=\"colab-df-buttons\">\n",
              "\n",
              "  <div class=\"colab-df-container\">\n",
              "    <button class=\"colab-df-convert\" onclick=\"convertToInteractive('df-16a7cb5b-9865-4110-a048-87f06b63b82a')\"\n",
              "            title=\"Convert this dataframe to an interactive table.\"\n",
              "            style=\"display:none;\">\n",
              "\n",
              "  <svg xmlns=\"http://www.w3.org/2000/svg\" height=\"24px\" viewBox=\"0 -960 960 960\">\n",
              "    <path d=\"M120-120v-720h720v720H120Zm60-500h600v-160H180v160Zm220 220h160v-160H400v160Zm0 220h160v-160H400v160ZM180-400h160v-160H180v160Zm440 0h160v-160H620v160ZM180-180h160v-160H180v160Zm440 0h160v-160H620v160Z\"/>\n",
              "  </svg>\n",
              "    </button>\n",
              "\n",
              "  <style>\n",
              "    .colab-df-container {\n",
              "      display:flex;\n",
              "      gap: 12px;\n",
              "    }\n",
              "\n",
              "    .colab-df-convert {\n",
              "      background-color: #E8F0FE;\n",
              "      border: none;\n",
              "      border-radius: 50%;\n",
              "      cursor: pointer;\n",
              "      display: none;\n",
              "      fill: #1967D2;\n",
              "      height: 32px;\n",
              "      padding: 0 0 0 0;\n",
              "      width: 32px;\n",
              "    }\n",
              "\n",
              "    .colab-df-convert:hover {\n",
              "      background-color: #E2EBFA;\n",
              "      box-shadow: 0px 1px 2px rgba(60, 64, 67, 0.3), 0px 1px 3px 1px rgba(60, 64, 67, 0.15);\n",
              "      fill: #174EA6;\n",
              "    }\n",
              "\n",
              "    .colab-df-buttons div {\n",
              "      margin-bottom: 4px;\n",
              "    }\n",
              "\n",
              "    [theme=dark] .colab-df-convert {\n",
              "      background-color: #3B4455;\n",
              "      fill: #D2E3FC;\n",
              "    }\n",
              "\n",
              "    [theme=dark] .colab-df-convert:hover {\n",
              "      background-color: #434B5C;\n",
              "      box-shadow: 0px 1px 3px 1px rgba(0, 0, 0, 0.15);\n",
              "      filter: drop-shadow(0px 1px 2px rgba(0, 0, 0, 0.3));\n",
              "      fill: #FFFFFF;\n",
              "    }\n",
              "  </style>\n",
              "\n",
              "    <script>\n",
              "      const buttonEl =\n",
              "        document.querySelector('#df-16a7cb5b-9865-4110-a048-87f06b63b82a button.colab-df-convert');\n",
              "      buttonEl.style.display =\n",
              "        google.colab.kernel.accessAllowed ? 'block' : 'none';\n",
              "\n",
              "      async function convertToInteractive(key) {\n",
              "        const element = document.querySelector('#df-16a7cb5b-9865-4110-a048-87f06b63b82a');\n",
              "        const dataTable =\n",
              "          await google.colab.kernel.invokeFunction('convertToInteractive',\n",
              "                                                    [key], {});\n",
              "        if (!dataTable) return;\n",
              "\n",
              "        const docLinkHtml = 'Like what you see? Visit the ' +\n",
              "          '<a target=\"_blank\" href=https://colab.research.google.com/notebooks/data_table.ipynb>data table notebook</a>'\n",
              "          + ' to learn more about interactive tables.';\n",
              "        element.innerHTML = '';\n",
              "        dataTable['output_type'] = 'display_data';\n",
              "        await google.colab.output.renderOutput(dataTable, element);\n",
              "        const docLink = document.createElement('div');\n",
              "        docLink.innerHTML = docLinkHtml;\n",
              "        element.appendChild(docLink);\n",
              "      }\n",
              "    </script>\n",
              "  </div>\n",
              "\n",
              "\n",
              "<div id=\"df-efe42728-acf3-49d8-9a36-dde060526ab8\">\n",
              "  <button class=\"colab-df-quickchart\" onclick=\"quickchart('df-efe42728-acf3-49d8-9a36-dde060526ab8')\"\n",
              "            title=\"Suggest charts\"\n",
              "            style=\"display:none;\">\n",
              "\n",
              "<svg xmlns=\"http://www.w3.org/2000/svg\" height=\"24px\"viewBox=\"0 0 24 24\"\n",
              "     width=\"24px\">\n",
              "    <g>\n",
              "        <path d=\"M19 3H5c-1.1 0-2 .9-2 2v14c0 1.1.9 2 2 2h14c1.1 0 2-.9 2-2V5c0-1.1-.9-2-2-2zM9 17H7v-7h2v7zm4 0h-2V7h2v10zm4 0h-2v-4h2v4z\"/>\n",
              "    </g>\n",
              "</svg>\n",
              "  </button>\n",
              "\n",
              "<style>\n",
              "  .colab-df-quickchart {\n",
              "      --bg-color: #E8F0FE;\n",
              "      --fill-color: #1967D2;\n",
              "      --hover-bg-color: #E2EBFA;\n",
              "      --hover-fill-color: #174EA6;\n",
              "      --disabled-fill-color: #AAA;\n",
              "      --disabled-bg-color: #DDD;\n",
              "  }\n",
              "\n",
              "  [theme=dark] .colab-df-quickchart {\n",
              "      --bg-color: #3B4455;\n",
              "      --fill-color: #D2E3FC;\n",
              "      --hover-bg-color: #434B5C;\n",
              "      --hover-fill-color: #FFFFFF;\n",
              "      --disabled-bg-color: #3B4455;\n",
              "      --disabled-fill-color: #666;\n",
              "  }\n",
              "\n",
              "  .colab-df-quickchart {\n",
              "    background-color: var(--bg-color);\n",
              "    border: none;\n",
              "    border-radius: 50%;\n",
              "    cursor: pointer;\n",
              "    display: none;\n",
              "    fill: var(--fill-color);\n",
              "    height: 32px;\n",
              "    padding: 0;\n",
              "    width: 32px;\n",
              "  }\n",
              "\n",
              "  .colab-df-quickchart:hover {\n",
              "    background-color: var(--hover-bg-color);\n",
              "    box-shadow: 0 1px 2px rgba(60, 64, 67, 0.3), 0 1px 3px 1px rgba(60, 64, 67, 0.15);\n",
              "    fill: var(--button-hover-fill-color);\n",
              "  }\n",
              "\n",
              "  .colab-df-quickchart-complete:disabled,\n",
              "  .colab-df-quickchart-complete:disabled:hover {\n",
              "    background-color: var(--disabled-bg-color);\n",
              "    fill: var(--disabled-fill-color);\n",
              "    box-shadow: none;\n",
              "  }\n",
              "\n",
              "  .colab-df-spinner {\n",
              "    border: 2px solid var(--fill-color);\n",
              "    border-color: transparent;\n",
              "    border-bottom-color: var(--fill-color);\n",
              "    animation:\n",
              "      spin 1s steps(1) infinite;\n",
              "  }\n",
              "\n",
              "  @keyframes spin {\n",
              "    0% {\n",
              "      border-color: transparent;\n",
              "      border-bottom-color: var(--fill-color);\n",
              "      border-left-color: var(--fill-color);\n",
              "    }\n",
              "    20% {\n",
              "      border-color: transparent;\n",
              "      border-left-color: var(--fill-color);\n",
              "      border-top-color: var(--fill-color);\n",
              "    }\n",
              "    30% {\n",
              "      border-color: transparent;\n",
              "      border-left-color: var(--fill-color);\n",
              "      border-top-color: var(--fill-color);\n",
              "      border-right-color: var(--fill-color);\n",
              "    }\n",
              "    40% {\n",
              "      border-color: transparent;\n",
              "      border-right-color: var(--fill-color);\n",
              "      border-top-color: var(--fill-color);\n",
              "    }\n",
              "    60% {\n",
              "      border-color: transparent;\n",
              "      border-right-color: var(--fill-color);\n",
              "    }\n",
              "    80% {\n",
              "      border-color: transparent;\n",
              "      border-right-color: var(--fill-color);\n",
              "      border-bottom-color: var(--fill-color);\n",
              "    }\n",
              "    90% {\n",
              "      border-color: transparent;\n",
              "      border-bottom-color: var(--fill-color);\n",
              "    }\n",
              "  }\n",
              "</style>\n",
              "\n",
              "  <script>\n",
              "    async function quickchart(key) {\n",
              "      const quickchartButtonEl =\n",
              "        document.querySelector('#' + key + ' button');\n",
              "      quickchartButtonEl.disabled = true;  // To prevent multiple clicks.\n",
              "      quickchartButtonEl.classList.add('colab-df-spinner');\n",
              "      try {\n",
              "        const charts = await google.colab.kernel.invokeFunction(\n",
              "            'suggestCharts', [key], {});\n",
              "      } catch (error) {\n",
              "        console.error('Error during call to suggestCharts:', error);\n",
              "      }\n",
              "      quickchartButtonEl.classList.remove('colab-df-spinner');\n",
              "      quickchartButtonEl.classList.add('colab-df-quickchart-complete');\n",
              "    }\n",
              "    (() => {\n",
              "      let quickchartButtonEl =\n",
              "        document.querySelector('#df-efe42728-acf3-49d8-9a36-dde060526ab8 button');\n",
              "      quickchartButtonEl.style.display =\n",
              "        google.colab.kernel.accessAllowed ? 'block' : 'none';\n",
              "    })();\n",
              "  </script>\n",
              "</div>\n",
              "\n",
              "  <div id=\"id_00006e57-9094-4b8f-9ea5-cc147e9ff220\">\n",
              "    <style>\n",
              "      .colab-df-generate {\n",
              "        background-color: #E8F0FE;\n",
              "        border: none;\n",
              "        border-radius: 50%;\n",
              "        cursor: pointer;\n",
              "        display: none;\n",
              "        fill: #1967D2;\n",
              "        height: 32px;\n",
              "        padding: 0 0 0 0;\n",
              "        width: 32px;\n",
              "      }\n",
              "\n",
              "      .colab-df-generate:hover {\n",
              "        background-color: #E2EBFA;\n",
              "        box-shadow: 0px 1px 2px rgba(60, 64, 67, 0.3), 0px 1px 3px 1px rgba(60, 64, 67, 0.15);\n",
              "        fill: #174EA6;\n",
              "      }\n",
              "\n",
              "      [theme=dark] .colab-df-generate {\n",
              "        background-color: #3B4455;\n",
              "        fill: #D2E3FC;\n",
              "      }\n",
              "\n",
              "      [theme=dark] .colab-df-generate:hover {\n",
              "        background-color: #434B5C;\n",
              "        box-shadow: 0px 1px 3px 1px rgba(0, 0, 0, 0.15);\n",
              "        filter: drop-shadow(0px 1px 2px rgba(0, 0, 0, 0.3));\n",
              "        fill: #FFFFFF;\n",
              "      }\n",
              "    </style>\n",
              "    <button class=\"colab-df-generate\" onclick=\"generateWithVariable('df')\"\n",
              "            title=\"Generate code using this dataframe.\"\n",
              "            style=\"display:none;\">\n",
              "\n",
              "  <svg xmlns=\"http://www.w3.org/2000/svg\" height=\"24px\"viewBox=\"0 0 24 24\"\n",
              "       width=\"24px\">\n",
              "    <path d=\"M7,19H8.4L18.45,9,17,7.55,7,17.6ZM5,21V16.75L18.45,3.32a2,2,0,0,1,2.83,0l1.4,1.43a1.91,1.91,0,0,1,.58,1.4,1.91,1.91,0,0,1-.58,1.4L9.25,21ZM18.45,9,17,7.55Zm-12,3A5.31,5.31,0,0,0,4.9,8.1,5.31,5.31,0,0,0,1,6.5,5.31,5.31,0,0,0,4.9,4.9,5.31,5.31,0,0,0,6.5,1,5.31,5.31,0,0,0,8.1,4.9,5.31,5.31,0,0,0,12,6.5,5.46,5.46,0,0,0,6.5,12Z\"/>\n",
              "  </svg>\n",
              "    </button>\n",
              "    <script>\n",
              "      (() => {\n",
              "      const buttonEl =\n",
              "        document.querySelector('#id_00006e57-9094-4b8f-9ea5-cc147e9ff220 button.colab-df-generate');\n",
              "      buttonEl.style.display =\n",
              "        google.colab.kernel.accessAllowed ? 'block' : 'none';\n",
              "\n",
              "      buttonEl.onclick = () => {\n",
              "        google.colab.notebook.generateWithVariable('df');\n",
              "      }\n",
              "      })();\n",
              "    </script>\n",
              "  </div>\n",
              "\n",
              "    </div>\n",
              "  </div>\n"
            ],
            "application/vnd.google.colaboratory.intrinsic+json": {
              "type": "dataframe",
              "variable_name": "df",
              "summary": "{\n  \"name\": \"df\",\n  \"rows\": 8000,\n  \"fields\": [\n    {\n      \"column\": \"audio\",\n      \"properties\": {\n        \"dtype\": \"object\",\n        \"semantic_type\": \"\",\n        \"description\": \"\"\n      }\n    },\n    {\n      \"column\": \"text\",\n      \"properties\": {\n        \"dtype\": \"category\",\n        \"num_unique_values\": 8,\n        \"samples\": [\n          \"right\",\n          \"go\",\n          \"yes\"\n        ],\n        \"semantic_type\": \"\",\n        \"description\": \"\"\n      }\n    }\n  ]\n}"
            }
          },
          "metadata": {},
          "execution_count": 7
        }
      ],
      "source": [
        "commands = ['yes', 'right', 'no', 'stop', 'down', 'go', 'up', 'left']\n",
        "df = pd.DataFrame(columns = ('audio', 'text'))\n",
        "samples = pd.DataFrame(columns = ('audio', 'text'))\n",
        "\n",
        "for command in commands:\n",
        " for filename in os.listdir('mini_speech_commands/' + command):\n",
        "  audio, sr = librosa.load('mini_speech_commands/'+command+'/'+filename, sr = 44100, mono = True)\n",
        "  if len(audio) < 44100:\n",
        "    samples = pd.concat((samples, pd.DataFrame( ((audio, command),), columns = ('audio', 'text'))))\n",
        "  audio = audio.copy()\n",
        "  audio.resize(44100)\n",
        "  mel_spectrogram = librosa.feature.melspectrogram(y=audio, sr=sr, n_fft=1024, hop_length=512)\n",
        "  mel_spectrogram = librosa.power_to_db(mel_spectrogram, ref=np.max).reshape((128,87,1))\n",
        "  new_data = pd.DataFrame( ((mel_spectrogram, command),), columns = ('audio', 'text'))\n",
        "  df = pd.concat((df, new_data))\n",
        "\n",
        "df"
      ]
    },
    {
      "cell_type": "code",
      "execution_count": 8,
      "metadata": {
        "colab": {
          "base_uri": "https://localhost:8080/",
          "height": 423
        },
        "id": "hF4wK42IW1dK",
        "outputId": "1192b28b-2e27-4487-978d-c96ed4f60256"
      },
      "outputs": [
        {
          "output_type": "execute_result",
          "data": {
            "text/plain": [
              "                                                audio  \\\n",
              "0   [[[-77.12065], [-76.70184], [-78.16722], [-78....   \n",
              "0   [[[-32.63741], [-27.841562], [-28.268536], [-2...   \n",
              "0   [[[-80.0], [-78.78871], [-80.0], [-77.33365], ...   \n",
              "0   [[[-28.68789], [-31.772316], [-27.998074], [-2...   \n",
              "0   [[[-58.916164], [-52.75513], [-53.535103], [-5...   \n",
              "..                                                ...   \n",
              "0   [[[-69.776855], [-71.414955], [-70.087616], [-...   \n",
              "0   [[[-38.089012], [-57.53762], [-47.159195], [-5...   \n",
              "0   [[[-33.403793], [-29.064983], [-28.110565], [-...   \n",
              "0   [[[-19.14095], [-15.419655], [-15.115244], [-1...   \n",
              "0   [[[-52.859108], [-46.408237], [-55.869286], [-...   \n",
              "\n",
              "                        text  \n",
              "0   [1, 0, 0, 0, 0, 0, 0, 0]  \n",
              "0   [1, 0, 0, 0, 0, 0, 0, 0]  \n",
              "0   [1, 0, 0, 0, 0, 0, 0, 0]  \n",
              "0   [1, 0, 0, 0, 0, 0, 0, 0]  \n",
              "0   [1, 0, 0, 0, 0, 0, 0, 0]  \n",
              "..                       ...  \n",
              "0   [0, 0, 0, 0, 0, 0, 0, 1]  \n",
              "0   [0, 0, 0, 0, 0, 0, 0, 1]  \n",
              "0   [0, 0, 0, 0, 0, 0, 0, 1]  \n",
              "0   [0, 0, 0, 0, 0, 0, 0, 1]  \n",
              "0   [0, 0, 0, 0, 0, 0, 0, 1]  \n",
              "\n",
              "[8000 rows x 2 columns]"
            ],
            "text/html": [
              "\n",
              "  <div id=\"df-feb46801-7a5a-4da4-a623-6f799e2a0f9e\" class=\"colab-df-container\">\n",
              "    <div>\n",
              "<style scoped>\n",
              "    .dataframe tbody tr th:only-of-type {\n",
              "        vertical-align: middle;\n",
              "    }\n",
              "\n",
              "    .dataframe tbody tr th {\n",
              "        vertical-align: top;\n",
              "    }\n",
              "\n",
              "    .dataframe thead th {\n",
              "        text-align: right;\n",
              "    }\n",
              "</style>\n",
              "<table border=\"1\" class=\"dataframe\">\n",
              "  <thead>\n",
              "    <tr style=\"text-align: right;\">\n",
              "      <th></th>\n",
              "      <th>audio</th>\n",
              "      <th>text</th>\n",
              "    </tr>\n",
              "  </thead>\n",
              "  <tbody>\n",
              "    <tr>\n",
              "      <th>0</th>\n",
              "      <td>[[[-77.12065], [-76.70184], [-78.16722], [-78....</td>\n",
              "      <td>[1, 0, 0, 0, 0, 0, 0, 0]</td>\n",
              "    </tr>\n",
              "    <tr>\n",
              "      <th>0</th>\n",
              "      <td>[[[-32.63741], [-27.841562], [-28.268536], [-2...</td>\n",
              "      <td>[1, 0, 0, 0, 0, 0, 0, 0]</td>\n",
              "    </tr>\n",
              "    <tr>\n",
              "      <th>0</th>\n",
              "      <td>[[[-80.0], [-78.78871], [-80.0], [-77.33365], ...</td>\n",
              "      <td>[1, 0, 0, 0, 0, 0, 0, 0]</td>\n",
              "    </tr>\n",
              "    <tr>\n",
              "      <th>0</th>\n",
              "      <td>[[[-28.68789], [-31.772316], [-27.998074], [-2...</td>\n",
              "      <td>[1, 0, 0, 0, 0, 0, 0, 0]</td>\n",
              "    </tr>\n",
              "    <tr>\n",
              "      <th>0</th>\n",
              "      <td>[[[-58.916164], [-52.75513], [-53.535103], [-5...</td>\n",
              "      <td>[1, 0, 0, 0, 0, 0, 0, 0]</td>\n",
              "    </tr>\n",
              "    <tr>\n",
              "      <th>...</th>\n",
              "      <td>...</td>\n",
              "      <td>...</td>\n",
              "    </tr>\n",
              "    <tr>\n",
              "      <th>0</th>\n",
              "      <td>[[[-69.776855], [-71.414955], [-70.087616], [-...</td>\n",
              "      <td>[0, 0, 0, 0, 0, 0, 0, 1]</td>\n",
              "    </tr>\n",
              "    <tr>\n",
              "      <th>0</th>\n",
              "      <td>[[[-38.089012], [-57.53762], [-47.159195], [-5...</td>\n",
              "      <td>[0, 0, 0, 0, 0, 0, 0, 1]</td>\n",
              "    </tr>\n",
              "    <tr>\n",
              "      <th>0</th>\n",
              "      <td>[[[-33.403793], [-29.064983], [-28.110565], [-...</td>\n",
              "      <td>[0, 0, 0, 0, 0, 0, 0, 1]</td>\n",
              "    </tr>\n",
              "    <tr>\n",
              "      <th>0</th>\n",
              "      <td>[[[-19.14095], [-15.419655], [-15.115244], [-1...</td>\n",
              "      <td>[0, 0, 0, 0, 0, 0, 0, 1]</td>\n",
              "    </tr>\n",
              "    <tr>\n",
              "      <th>0</th>\n",
              "      <td>[[[-52.859108], [-46.408237], [-55.869286], [-...</td>\n",
              "      <td>[0, 0, 0, 0, 0, 0, 0, 1]</td>\n",
              "    </tr>\n",
              "  </tbody>\n",
              "</table>\n",
              "<p>8000 rows × 2 columns</p>\n",
              "</div>\n",
              "    <div class=\"colab-df-buttons\">\n",
              "\n",
              "  <div class=\"colab-df-container\">\n",
              "    <button class=\"colab-df-convert\" onclick=\"convertToInteractive('df-feb46801-7a5a-4da4-a623-6f799e2a0f9e')\"\n",
              "            title=\"Convert this dataframe to an interactive table.\"\n",
              "            style=\"display:none;\">\n",
              "\n",
              "  <svg xmlns=\"http://www.w3.org/2000/svg\" height=\"24px\" viewBox=\"0 -960 960 960\">\n",
              "    <path d=\"M120-120v-720h720v720H120Zm60-500h600v-160H180v160Zm220 220h160v-160H400v160Zm0 220h160v-160H400v160ZM180-400h160v-160H180v160Zm440 0h160v-160H620v160ZM180-180h160v-160H180v160Zm440 0h160v-160H620v160Z\"/>\n",
              "  </svg>\n",
              "    </button>\n",
              "\n",
              "  <style>\n",
              "    .colab-df-container {\n",
              "      display:flex;\n",
              "      gap: 12px;\n",
              "    }\n",
              "\n",
              "    .colab-df-convert {\n",
              "      background-color: #E8F0FE;\n",
              "      border: none;\n",
              "      border-radius: 50%;\n",
              "      cursor: pointer;\n",
              "      display: none;\n",
              "      fill: #1967D2;\n",
              "      height: 32px;\n",
              "      padding: 0 0 0 0;\n",
              "      width: 32px;\n",
              "    }\n",
              "\n",
              "    .colab-df-convert:hover {\n",
              "      background-color: #E2EBFA;\n",
              "      box-shadow: 0px 1px 2px rgba(60, 64, 67, 0.3), 0px 1px 3px 1px rgba(60, 64, 67, 0.15);\n",
              "      fill: #174EA6;\n",
              "    }\n",
              "\n",
              "    .colab-df-buttons div {\n",
              "      margin-bottom: 4px;\n",
              "    }\n",
              "\n",
              "    [theme=dark] .colab-df-convert {\n",
              "      background-color: #3B4455;\n",
              "      fill: #D2E3FC;\n",
              "    }\n",
              "\n",
              "    [theme=dark] .colab-df-convert:hover {\n",
              "      background-color: #434B5C;\n",
              "      box-shadow: 0px 1px 3px 1px rgba(0, 0, 0, 0.15);\n",
              "      filter: drop-shadow(0px 1px 2px rgba(0, 0, 0, 0.3));\n",
              "      fill: #FFFFFF;\n",
              "    }\n",
              "  </style>\n",
              "\n",
              "    <script>\n",
              "      const buttonEl =\n",
              "        document.querySelector('#df-feb46801-7a5a-4da4-a623-6f799e2a0f9e button.colab-df-convert');\n",
              "      buttonEl.style.display =\n",
              "        google.colab.kernel.accessAllowed ? 'block' : 'none';\n",
              "\n",
              "      async function convertToInteractive(key) {\n",
              "        const element = document.querySelector('#df-feb46801-7a5a-4da4-a623-6f799e2a0f9e');\n",
              "        const dataTable =\n",
              "          await google.colab.kernel.invokeFunction('convertToInteractive',\n",
              "                                                    [key], {});\n",
              "        if (!dataTable) return;\n",
              "\n",
              "        const docLinkHtml = 'Like what you see? Visit the ' +\n",
              "          '<a target=\"_blank\" href=https://colab.research.google.com/notebooks/data_table.ipynb>data table notebook</a>'\n",
              "          + ' to learn more about interactive tables.';\n",
              "        element.innerHTML = '';\n",
              "        dataTable['output_type'] = 'display_data';\n",
              "        await google.colab.output.renderOutput(dataTable, element);\n",
              "        const docLink = document.createElement('div');\n",
              "        docLink.innerHTML = docLinkHtml;\n",
              "        element.appendChild(docLink);\n",
              "      }\n",
              "    </script>\n",
              "  </div>\n",
              "\n",
              "\n",
              "<div id=\"df-6cb376ee-2ab7-479f-b37f-261be5eb8206\">\n",
              "  <button class=\"colab-df-quickchart\" onclick=\"quickchart('df-6cb376ee-2ab7-479f-b37f-261be5eb8206')\"\n",
              "            title=\"Suggest charts\"\n",
              "            style=\"display:none;\">\n",
              "\n",
              "<svg xmlns=\"http://www.w3.org/2000/svg\" height=\"24px\"viewBox=\"0 0 24 24\"\n",
              "     width=\"24px\">\n",
              "    <g>\n",
              "        <path d=\"M19 3H5c-1.1 0-2 .9-2 2v14c0 1.1.9 2 2 2h14c1.1 0 2-.9 2-2V5c0-1.1-.9-2-2-2zM9 17H7v-7h2v7zm4 0h-2V7h2v10zm4 0h-2v-4h2v4z\"/>\n",
              "    </g>\n",
              "</svg>\n",
              "  </button>\n",
              "\n",
              "<style>\n",
              "  .colab-df-quickchart {\n",
              "      --bg-color: #E8F0FE;\n",
              "      --fill-color: #1967D2;\n",
              "      --hover-bg-color: #E2EBFA;\n",
              "      --hover-fill-color: #174EA6;\n",
              "      --disabled-fill-color: #AAA;\n",
              "      --disabled-bg-color: #DDD;\n",
              "  }\n",
              "\n",
              "  [theme=dark] .colab-df-quickchart {\n",
              "      --bg-color: #3B4455;\n",
              "      --fill-color: #D2E3FC;\n",
              "      --hover-bg-color: #434B5C;\n",
              "      --hover-fill-color: #FFFFFF;\n",
              "      --disabled-bg-color: #3B4455;\n",
              "      --disabled-fill-color: #666;\n",
              "  }\n",
              "\n",
              "  .colab-df-quickchart {\n",
              "    background-color: var(--bg-color);\n",
              "    border: none;\n",
              "    border-radius: 50%;\n",
              "    cursor: pointer;\n",
              "    display: none;\n",
              "    fill: var(--fill-color);\n",
              "    height: 32px;\n",
              "    padding: 0;\n",
              "    width: 32px;\n",
              "  }\n",
              "\n",
              "  .colab-df-quickchart:hover {\n",
              "    background-color: var(--hover-bg-color);\n",
              "    box-shadow: 0 1px 2px rgba(60, 64, 67, 0.3), 0 1px 3px 1px rgba(60, 64, 67, 0.15);\n",
              "    fill: var(--button-hover-fill-color);\n",
              "  }\n",
              "\n",
              "  .colab-df-quickchart-complete:disabled,\n",
              "  .colab-df-quickchart-complete:disabled:hover {\n",
              "    background-color: var(--disabled-bg-color);\n",
              "    fill: var(--disabled-fill-color);\n",
              "    box-shadow: none;\n",
              "  }\n",
              "\n",
              "  .colab-df-spinner {\n",
              "    border: 2px solid var(--fill-color);\n",
              "    border-color: transparent;\n",
              "    border-bottom-color: var(--fill-color);\n",
              "    animation:\n",
              "      spin 1s steps(1) infinite;\n",
              "  }\n",
              "\n",
              "  @keyframes spin {\n",
              "    0% {\n",
              "      border-color: transparent;\n",
              "      border-bottom-color: var(--fill-color);\n",
              "      border-left-color: var(--fill-color);\n",
              "    }\n",
              "    20% {\n",
              "      border-color: transparent;\n",
              "      border-left-color: var(--fill-color);\n",
              "      border-top-color: var(--fill-color);\n",
              "    }\n",
              "    30% {\n",
              "      border-color: transparent;\n",
              "      border-left-color: var(--fill-color);\n",
              "      border-top-color: var(--fill-color);\n",
              "      border-right-color: var(--fill-color);\n",
              "    }\n",
              "    40% {\n",
              "      border-color: transparent;\n",
              "      border-right-color: var(--fill-color);\n",
              "      border-top-color: var(--fill-color);\n",
              "    }\n",
              "    60% {\n",
              "      border-color: transparent;\n",
              "      border-right-color: var(--fill-color);\n",
              "    }\n",
              "    80% {\n",
              "      border-color: transparent;\n",
              "      border-right-color: var(--fill-color);\n",
              "      border-bottom-color: var(--fill-color);\n",
              "    }\n",
              "    90% {\n",
              "      border-color: transparent;\n",
              "      border-bottom-color: var(--fill-color);\n",
              "    }\n",
              "  }\n",
              "</style>\n",
              "\n",
              "  <script>\n",
              "    async function quickchart(key) {\n",
              "      const quickchartButtonEl =\n",
              "        document.querySelector('#' + key + ' button');\n",
              "      quickchartButtonEl.disabled = true;  // To prevent multiple clicks.\n",
              "      quickchartButtonEl.classList.add('colab-df-spinner');\n",
              "      try {\n",
              "        const charts = await google.colab.kernel.invokeFunction(\n",
              "            'suggestCharts', [key], {});\n",
              "      } catch (error) {\n",
              "        console.error('Error during call to suggestCharts:', error);\n",
              "      }\n",
              "      quickchartButtonEl.classList.remove('colab-df-spinner');\n",
              "      quickchartButtonEl.classList.add('colab-df-quickchart-complete');\n",
              "    }\n",
              "    (() => {\n",
              "      let quickchartButtonEl =\n",
              "        document.querySelector('#df-6cb376ee-2ab7-479f-b37f-261be5eb8206 button');\n",
              "      quickchartButtonEl.style.display =\n",
              "        google.colab.kernel.accessAllowed ? 'block' : 'none';\n",
              "    })();\n",
              "  </script>\n",
              "</div>\n",
              "\n",
              "  <div id=\"id_a28c8673-b661-4a59-a817-6a43184bd122\">\n",
              "    <style>\n",
              "      .colab-df-generate {\n",
              "        background-color: #E8F0FE;\n",
              "        border: none;\n",
              "        border-radius: 50%;\n",
              "        cursor: pointer;\n",
              "        display: none;\n",
              "        fill: #1967D2;\n",
              "        height: 32px;\n",
              "        padding: 0 0 0 0;\n",
              "        width: 32px;\n",
              "      }\n",
              "\n",
              "      .colab-df-generate:hover {\n",
              "        background-color: #E2EBFA;\n",
              "        box-shadow: 0px 1px 2px rgba(60, 64, 67, 0.3), 0px 1px 3px 1px rgba(60, 64, 67, 0.15);\n",
              "        fill: #174EA6;\n",
              "      }\n",
              "\n",
              "      [theme=dark] .colab-df-generate {\n",
              "        background-color: #3B4455;\n",
              "        fill: #D2E3FC;\n",
              "      }\n",
              "\n",
              "      [theme=dark] .colab-df-generate:hover {\n",
              "        background-color: #434B5C;\n",
              "        box-shadow: 0px 1px 3px 1px rgba(0, 0, 0, 0.15);\n",
              "        filter: drop-shadow(0px 1px 2px rgba(0, 0, 0, 0.3));\n",
              "        fill: #FFFFFF;\n",
              "      }\n",
              "    </style>\n",
              "    <button class=\"colab-df-generate\" onclick=\"generateWithVariable('df')\"\n",
              "            title=\"Generate code using this dataframe.\"\n",
              "            style=\"display:none;\">\n",
              "\n",
              "  <svg xmlns=\"http://www.w3.org/2000/svg\" height=\"24px\"viewBox=\"0 0 24 24\"\n",
              "       width=\"24px\">\n",
              "    <path d=\"M7,19H8.4L18.45,9,17,7.55,7,17.6ZM5,21V16.75L18.45,3.32a2,2,0,0,1,2.83,0l1.4,1.43a1.91,1.91,0,0,1,.58,1.4,1.91,1.91,0,0,1-.58,1.4L9.25,21ZM18.45,9,17,7.55Zm-12,3A5.31,5.31,0,0,0,4.9,8.1,5.31,5.31,0,0,0,1,6.5,5.31,5.31,0,0,0,4.9,4.9,5.31,5.31,0,0,0,6.5,1,5.31,5.31,0,0,0,8.1,4.9,5.31,5.31,0,0,0,12,6.5,5.46,5.46,0,0,0,6.5,12Z\"/>\n",
              "  </svg>\n",
              "    </button>\n",
              "    <script>\n",
              "      (() => {\n",
              "      const buttonEl =\n",
              "        document.querySelector('#id_a28c8673-b661-4a59-a817-6a43184bd122 button.colab-df-generate');\n",
              "      buttonEl.style.display =\n",
              "        google.colab.kernel.accessAllowed ? 'block' : 'none';\n",
              "\n",
              "      buttonEl.onclick = () => {\n",
              "        google.colab.notebook.generateWithVariable('df');\n",
              "      }\n",
              "      })();\n",
              "    </script>\n",
              "  </div>\n",
              "\n",
              "    </div>\n",
              "  </div>\n"
            ],
            "application/vnd.google.colaboratory.intrinsic+json": {
              "type": "dataframe",
              "variable_name": "df",
              "summary": "{\n  \"name\": \"df\",\n  \"rows\": 8000,\n  \"fields\": [\n    {\n      \"column\": \"audio\",\n      \"properties\": {\n        \"dtype\": \"object\",\n        \"semantic_type\": \"\",\n        \"description\": \"\"\n      }\n    },\n    {\n      \"column\": \"text\",\n      \"properties\": {\n        \"dtype\": \"object\",\n        \"semantic_type\": \"\",\n        \"description\": \"\"\n      }\n    }\n  ]\n}"
            }
          },
          "metadata": {},
          "execution_count": 8
        }
      ],
      "source": [
        "def one_hot_enc(word):\n",
        " d = {'yes':0, 'right':1, 'no':2, 'stop':3, 'down':4, 'go':5, 'up':6, 'left':7}\n",
        " enc = np.zeros(8, dtype=np.int8)\n",
        " enc[d[word]] = 1\n",
        " return enc\n",
        "\n",
        "df['text'] = df['text'].apply(one_hot_enc)\n",
        "df"
      ]
    },
    {
      "cell_type": "code",
      "execution_count": 9,
      "metadata": {
        "colab": {
          "base_uri": "https://localhost:8080/"
        },
        "id": "79-QOJRHVYB2",
        "outputId": "a5b37a4e-3ce9-4a2a-95f4-7fafd86b5086"
      },
      "outputs": [
        {
          "output_type": "execute_result",
          "data": {
            "text/plain": [
              "<_PrefetchDataset element_spec=(TensorSpec(shape=(None, 128, 87, 1), dtype=tf.float32, name=None), TensorSpec(shape=(None, 8), dtype=tf.int8, name=None))>"
            ]
          },
          "metadata": {},
          "execution_count": 9
        }
      ],
      "source": [
        "spectrograms = np.stack(df['audio'])\n",
        "words = np.stack(df['text'])\n",
        "dataset = tf.data.Dataset.from_tensor_slices((spectrograms, words))\n",
        "dataset = dataset.shuffle(8000)\n",
        "\n",
        "train_ds = dataset.take(7000).shuffle(7000, reshuffle_each_iteration = True).batch(32).prefetch(tf.data.AUTOTUNE)\n",
        "val_ds = dataset.skip(7000).take(750).batch(32).prefetch(tf.data.AUTOTUNE)\n",
        "test_ds = dataset.skip(7750).batch(32).prefetch(tf.data.AUTOTUNE)\n",
        "\n",
        "train_ds"
      ]
    },
    {
      "cell_type": "markdown",
      "source": [
        "#Create a model and train it"
      ],
      "metadata": {
        "id": "FLeT2wbmYuR6"
      }
    },
    {
      "cell_type": "code",
      "execution_count": 10,
      "metadata": {
        "colab": {
          "base_uri": "https://localhost:8080/",
          "height": 409
        },
        "id": "0G78Oxw4iG0T",
        "outputId": "f71052e5-8aa3-4a3a-b9bd-027e945e894d"
      },
      "outputs": [
        {
          "output_type": "stream",
          "name": "stderr",
          "text": [
            "/usr/local/lib/python3.10/dist-packages/keras/src/layers/convolutional/base_conv.py:107: UserWarning: Do not pass an `input_shape`/`input_dim` argument to a layer. When using Sequential models, prefer using an `Input(shape)` object as the first layer in the model instead.\n",
            "  super().__init__(activity_regularizer=activity_regularizer, **kwargs)\n"
          ]
        },
        {
          "output_type": "display_data",
          "data": {
            "text/plain": [
              "\u001b[1mModel: \"sequential\"\u001b[0m\n"
            ],
            "text/html": [
              "<pre style=\"white-space:pre;overflow-x:auto;line-height:normal;font-family:Menlo,'DejaVu Sans Mono',consolas,'Courier New',monospace\"><span style=\"font-weight: bold\">Model: \"sequential\"</span>\n",
              "</pre>\n"
            ]
          },
          "metadata": {}
        },
        {
          "output_type": "display_data",
          "data": {
            "text/plain": [
              "┏━━━━━━━━━━━━━━━━━━━━━━━━━━━━━━━━━━━━━━┳━━━━━━━━━━━━━━━━━━━━━━━━━━━━━┳━━━━━━━━━━━━━━━━━┓\n",
              "┃\u001b[1m \u001b[0m\u001b[1mLayer (type)                        \u001b[0m\u001b[1m \u001b[0m┃\u001b[1m \u001b[0m\u001b[1mOutput Shape               \u001b[0m\u001b[1m \u001b[0m┃\u001b[1m \u001b[0m\u001b[1m        Param #\u001b[0m\u001b[1m \u001b[0m┃\n",
              "┡━━━━━━━━━━━━━━━━━━━━━━━━━━━━━━━━━━━━━━╇━━━━━━━━━━━━━━━━━━━━━━━━━━━━━╇━━━━━━━━━━━━━━━━━┩\n",
              "│ conv2d (\u001b[38;5;33mConv2D\u001b[0m)                      │ (\u001b[38;5;45mNone\u001b[0m, \u001b[38;5;34m126\u001b[0m, \u001b[38;5;34m85\u001b[0m, \u001b[38;5;34m32\u001b[0m)         │             \u001b[38;5;34m320\u001b[0m │\n",
              "├──────────────────────────────────────┼─────────────────────────────┼─────────────────┤\n",
              "│ max_pooling2d (\u001b[38;5;33mMaxPooling2D\u001b[0m)         │ (\u001b[38;5;45mNone\u001b[0m, \u001b[38;5;34m63\u001b[0m, \u001b[38;5;34m42\u001b[0m, \u001b[38;5;34m32\u001b[0m)          │               \u001b[38;5;34m0\u001b[0m │\n",
              "├──────────────────────────────────────┼─────────────────────────────┼─────────────────┤\n",
              "│ conv2d_1 (\u001b[38;5;33mConv2D\u001b[0m)                    │ (\u001b[38;5;45mNone\u001b[0m, \u001b[38;5;34m61\u001b[0m, \u001b[38;5;34m40\u001b[0m, \u001b[38;5;34m64\u001b[0m)          │          \u001b[38;5;34m18,496\u001b[0m │\n",
              "├──────────────────────────────────────┼─────────────────────────────┼─────────────────┤\n",
              "│ max_pooling2d_1 (\u001b[38;5;33mMaxPooling2D\u001b[0m)       │ (\u001b[38;5;45mNone\u001b[0m, \u001b[38;5;34m30\u001b[0m, \u001b[38;5;34m20\u001b[0m, \u001b[38;5;34m64\u001b[0m)          │               \u001b[38;5;34m0\u001b[0m │\n",
              "├──────────────────────────────────────┼─────────────────────────────┼─────────────────┤\n",
              "│ flatten (\u001b[38;5;33mFlatten\u001b[0m)                    │ (\u001b[38;5;45mNone\u001b[0m, \u001b[38;5;34m38400\u001b[0m)               │               \u001b[38;5;34m0\u001b[0m │\n",
              "├──────────────────────────────────────┼─────────────────────────────┼─────────────────┤\n",
              "│ dense (\u001b[38;5;33mDense\u001b[0m)                        │ (\u001b[38;5;45mNone\u001b[0m, \u001b[38;5;34m128\u001b[0m)                 │       \u001b[38;5;34m4,915,328\u001b[0m │\n",
              "├──────────────────────────────────────┼─────────────────────────────┼─────────────────┤\n",
              "│ dense_1 (\u001b[38;5;33mDense\u001b[0m)                      │ (\u001b[38;5;45mNone\u001b[0m, \u001b[38;5;34m8\u001b[0m)                   │           \u001b[38;5;34m1,032\u001b[0m │\n",
              "└──────────────────────────────────────┴─────────────────────────────┴─────────────────┘\n"
            ],
            "text/html": [
              "<pre style=\"white-space:pre;overflow-x:auto;line-height:normal;font-family:Menlo,'DejaVu Sans Mono',consolas,'Courier New',monospace\">┏━━━━━━━━━━━━━━━━━━━━━━━━━━━━━━━━━━━━━━┳━━━━━━━━━━━━━━━━━━━━━━━━━━━━━┳━━━━━━━━━━━━━━━━━┓\n",
              "┃<span style=\"font-weight: bold\"> Layer (type)                         </span>┃<span style=\"font-weight: bold\"> Output Shape                </span>┃<span style=\"font-weight: bold\">         Param # </span>┃\n",
              "┡━━━━━━━━━━━━━━━━━━━━━━━━━━━━━━━━━━━━━━╇━━━━━━━━━━━━━━━━━━━━━━━━━━━━━╇━━━━━━━━━━━━━━━━━┩\n",
              "│ conv2d (<span style=\"color: #0087ff; text-decoration-color: #0087ff\">Conv2D</span>)                      │ (<span style=\"color: #00d7ff; text-decoration-color: #00d7ff\">None</span>, <span style=\"color: #00af00; text-decoration-color: #00af00\">126</span>, <span style=\"color: #00af00; text-decoration-color: #00af00\">85</span>, <span style=\"color: #00af00; text-decoration-color: #00af00\">32</span>)         │             <span style=\"color: #00af00; text-decoration-color: #00af00\">320</span> │\n",
              "├──────────────────────────────────────┼─────────────────────────────┼─────────────────┤\n",
              "│ max_pooling2d (<span style=\"color: #0087ff; text-decoration-color: #0087ff\">MaxPooling2D</span>)         │ (<span style=\"color: #00d7ff; text-decoration-color: #00d7ff\">None</span>, <span style=\"color: #00af00; text-decoration-color: #00af00\">63</span>, <span style=\"color: #00af00; text-decoration-color: #00af00\">42</span>, <span style=\"color: #00af00; text-decoration-color: #00af00\">32</span>)          │               <span style=\"color: #00af00; text-decoration-color: #00af00\">0</span> │\n",
              "├──────────────────────────────────────┼─────────────────────────────┼─────────────────┤\n",
              "│ conv2d_1 (<span style=\"color: #0087ff; text-decoration-color: #0087ff\">Conv2D</span>)                    │ (<span style=\"color: #00d7ff; text-decoration-color: #00d7ff\">None</span>, <span style=\"color: #00af00; text-decoration-color: #00af00\">61</span>, <span style=\"color: #00af00; text-decoration-color: #00af00\">40</span>, <span style=\"color: #00af00; text-decoration-color: #00af00\">64</span>)          │          <span style=\"color: #00af00; text-decoration-color: #00af00\">18,496</span> │\n",
              "├──────────────────────────────────────┼─────────────────────────────┼─────────────────┤\n",
              "│ max_pooling2d_1 (<span style=\"color: #0087ff; text-decoration-color: #0087ff\">MaxPooling2D</span>)       │ (<span style=\"color: #00d7ff; text-decoration-color: #00d7ff\">None</span>, <span style=\"color: #00af00; text-decoration-color: #00af00\">30</span>, <span style=\"color: #00af00; text-decoration-color: #00af00\">20</span>, <span style=\"color: #00af00; text-decoration-color: #00af00\">64</span>)          │               <span style=\"color: #00af00; text-decoration-color: #00af00\">0</span> │\n",
              "├──────────────────────────────────────┼─────────────────────────────┼─────────────────┤\n",
              "│ flatten (<span style=\"color: #0087ff; text-decoration-color: #0087ff\">Flatten</span>)                    │ (<span style=\"color: #00d7ff; text-decoration-color: #00d7ff\">None</span>, <span style=\"color: #00af00; text-decoration-color: #00af00\">38400</span>)               │               <span style=\"color: #00af00; text-decoration-color: #00af00\">0</span> │\n",
              "├──────────────────────────────────────┼─────────────────────────────┼─────────────────┤\n",
              "│ dense (<span style=\"color: #0087ff; text-decoration-color: #0087ff\">Dense</span>)                        │ (<span style=\"color: #00d7ff; text-decoration-color: #00d7ff\">None</span>, <span style=\"color: #00af00; text-decoration-color: #00af00\">128</span>)                 │       <span style=\"color: #00af00; text-decoration-color: #00af00\">4,915,328</span> │\n",
              "├──────────────────────────────────────┼─────────────────────────────┼─────────────────┤\n",
              "│ dense_1 (<span style=\"color: #0087ff; text-decoration-color: #0087ff\">Dense</span>)                      │ (<span style=\"color: #00d7ff; text-decoration-color: #00d7ff\">None</span>, <span style=\"color: #00af00; text-decoration-color: #00af00\">8</span>)                   │           <span style=\"color: #00af00; text-decoration-color: #00af00\">1,032</span> │\n",
              "└──────────────────────────────────────┴─────────────────────────────┴─────────────────┘\n",
              "</pre>\n"
            ]
          },
          "metadata": {}
        },
        {
          "output_type": "display_data",
          "data": {
            "text/plain": [
              "\u001b[1m Total params: \u001b[0m\u001b[38;5;34m4,935,176\u001b[0m (18.83 MB)\n"
            ],
            "text/html": [
              "<pre style=\"white-space:pre;overflow-x:auto;line-height:normal;font-family:Menlo,'DejaVu Sans Mono',consolas,'Courier New',monospace\"><span style=\"font-weight: bold\"> Total params: </span><span style=\"color: #00af00; text-decoration-color: #00af00\">4,935,176</span> (18.83 MB)\n",
              "</pre>\n"
            ]
          },
          "metadata": {}
        },
        {
          "output_type": "display_data",
          "data": {
            "text/plain": [
              "\u001b[1m Trainable params: \u001b[0m\u001b[38;5;34m4,935,176\u001b[0m (18.83 MB)\n"
            ],
            "text/html": [
              "<pre style=\"white-space:pre;overflow-x:auto;line-height:normal;font-family:Menlo,'DejaVu Sans Mono',consolas,'Courier New',monospace\"><span style=\"font-weight: bold\"> Trainable params: </span><span style=\"color: #00af00; text-decoration-color: #00af00\">4,935,176</span> (18.83 MB)\n",
              "</pre>\n"
            ]
          },
          "metadata": {}
        },
        {
          "output_type": "display_data",
          "data": {
            "text/plain": [
              "\u001b[1m Non-trainable params: \u001b[0m\u001b[38;5;34m0\u001b[0m (0.00 B)\n"
            ],
            "text/html": [
              "<pre style=\"white-space:pre;overflow-x:auto;line-height:normal;font-family:Menlo,'DejaVu Sans Mono',consolas,'Courier New',monospace\"><span style=\"font-weight: bold\"> Non-trainable params: </span><span style=\"color: #00af00; text-decoration-color: #00af00\">0</span> (0.00 B)\n",
              "</pre>\n"
            ]
          },
          "metadata": {}
        }
      ],
      "source": [
        "model = tf.keras.Sequential([\n",
        "    tf.keras.layers.Conv2D(32, (3, 3), activation='relu', input_shape=(128, 87, 1)),\n",
        "    tf.keras.layers.MaxPooling2D((2, 2)),\n",
        "    tf.keras.layers.Conv2D(64, (3, 3), activation='relu'),\n",
        "    tf.keras.layers.MaxPooling2D((2, 2)),\n",
        "    tf.keras.layers.Flatten(),\n",
        "    tf.keras.layers.Dense(128, activation='relu'),\n",
        "    tf.keras.layers.Dense(8, activation='softmax')\n",
        "])\n",
        "model.summary()"
      ]
    },
    {
      "cell_type": "code",
      "execution_count": 11,
      "metadata": {
        "colab": {
          "base_uri": "https://localhost:8080/"
        },
        "id": "DmvX8QM0uN7R",
        "outputId": "5a7100fa-83bb-4fe0-e0a4-218ad64e1e7b"
      },
      "outputs": [
        {
          "output_type": "stream",
          "name": "stdout",
          "text": [
            "\u001b[1m1/1\u001b[0m \u001b[32m━━━━━━━━━━━━━━━━━━━━\u001b[0m\u001b[37m\u001b[0m \u001b[1m0s\u001b[0m 213ms/step\n"
          ]
        },
        {
          "output_type": "execute_result",
          "data": {
            "text/plain": [
              "array([[1.1207965e-01, 8.1719865e-12, 8.8771737e-01, 1.2891239e-10,\n",
              "        1.6185060e-05, 1.1221876e-09, 3.0521750e-12, 1.8675879e-04]],\n",
              "      dtype=float32)"
            ]
          },
          "metadata": {},
          "execution_count": 11
        }
      ],
      "source": [
        "model.predict(mel_spectrogram.reshape(1,128, 87, 1))"
      ]
    },
    {
      "cell_type": "code",
      "execution_count": 12,
      "metadata": {
        "colab": {
          "base_uri": "https://localhost:8080/"
        },
        "id": "3HeEmixFpmXp",
        "outputId": "22199c10-9660-4bb3-bf12-9b00ef259f78"
      },
      "outputs": [
        {
          "output_type": "stream",
          "name": "stdout",
          "text": [
            "Epoch 1/12\n"
          ]
        },
        {
          "output_type": "stream",
          "name": "stderr",
          "text": [
            "/usr/local/lib/python3.10/dist-packages/keras/src/backend/tensorflow/nn.py:593: UserWarning: \"`categorical_crossentropy` received `from_logits=True`, but the `output` argument was produced by a Softmax activation and thus does not represent logits. Was this intended?\n",
            "  output, from_logits = _get_logits(\n"
          ]
        },
        {
          "output_type": "stream",
          "name": "stdout",
          "text": [
            "\u001b[1m219/219\u001b[0m \u001b[32m━━━━━━━━━━━━━━━━━━━━\u001b[0m\u001b[37m\u001b[0m \u001b[1m121s\u001b[0m 543ms/step - accuracy: 0.3499 - loss: 13.5783 - val_accuracy: 0.8067 - val_loss: 0.5919\n",
            "Epoch 2/12\n"
          ]
        },
        {
          "output_type": "stream",
          "name": "stderr",
          "text": [
            "/usr/lib/python3.10/contextlib.py:153: UserWarning: Your input ran out of data; interrupting training. Make sure that your dataset or generator can generate at least `steps_per_epoch * epochs` batches. You may need to use the `.repeat()` function when building your dataset.\n",
            "  self.gen.throw(typ, value, traceback)\n"
          ]
        },
        {
          "output_type": "stream",
          "name": "stdout",
          "text": [
            "\u001b[1m219/219\u001b[0m \u001b[32m━━━━━━━━━━━━━━━━━━━━\u001b[0m\u001b[37m\u001b[0m \u001b[1m145s\u001b[0m 559ms/step - accuracy: 0.8183 - loss: 0.5384 - val_accuracy: 0.9040 - val_loss: 0.2870\n",
            "Epoch 3/12\n",
            "\u001b[1m219/219\u001b[0m \u001b[32m━━━━━━━━━━━━━━━━━━━━\u001b[0m\u001b[37m\u001b[0m \u001b[1m133s\u001b[0m 518ms/step - accuracy: 0.8955 - loss: 0.3085 - val_accuracy: 0.9293 - val_loss: 0.2077\n",
            "Epoch 4/12\n",
            "\u001b[1m219/219\u001b[0m \u001b[32m━━━━━━━━━━━━━━━━━━━━\u001b[0m\u001b[37m\u001b[0m \u001b[1m113s\u001b[0m 517ms/step - accuracy: 0.9420 - loss: 0.1750 - val_accuracy: 0.9573 - val_loss: 0.1481\n",
            "Epoch 5/12\n",
            "\u001b[1m219/219\u001b[0m \u001b[32m━━━━━━━━━━━━━━━━━━━━\u001b[0m\u001b[37m\u001b[0m \u001b[1m111s\u001b[0m 508ms/step - accuracy: 0.9689 - loss: 0.1037 - val_accuracy: 0.9787 - val_loss: 0.0685\n",
            "Epoch 6/12\n",
            "\u001b[1m219/219\u001b[0m \u001b[32m━━━━━━━━━━━━━━━━━━━━\u001b[0m\u001b[37m\u001b[0m \u001b[1m115s\u001b[0m 524ms/step - accuracy: 0.9806 - loss: 0.0716 - val_accuracy: 0.9853 - val_loss: 0.0546\n",
            "Epoch 7/12\n",
            "\u001b[1m219/219\u001b[0m \u001b[32m━━━━━━━━━━━━━━━━━━━━\u001b[0m\u001b[37m\u001b[0m \u001b[1m147s\u001b[0m 549ms/step - accuracy: 0.9763 - loss: 0.0698 - val_accuracy: 0.9627 - val_loss: 0.1074\n",
            "Epoch 8/12\n",
            "\u001b[1m219/219\u001b[0m \u001b[32m━━━━━━━━━━━━━━━━━━━━\u001b[0m\u001b[37m\u001b[0m \u001b[1m112s\u001b[0m 514ms/step - accuracy: 0.9768 - loss: 0.0790 - val_accuracy: 0.9733 - val_loss: 0.0818\n",
            "Epoch 9/12\n",
            "\u001b[1m219/219\u001b[0m \u001b[32m━━━━━━━━━━━━━━━━━━━━\u001b[0m\u001b[37m\u001b[0m \u001b[1m142s\u001b[0m 516ms/step - accuracy: 0.9844 - loss: 0.0518 - val_accuracy: 0.9787 - val_loss: 0.0733\n",
            "Epoch 10/12\n",
            "\u001b[1m219/219\u001b[0m \u001b[32m━━━━━━━━━━━━━━━━━━━━\u001b[0m\u001b[37m\u001b[0m \u001b[1m144s\u001b[0m 525ms/step - accuracy: 0.9872 - loss: 0.0411 - val_accuracy: 0.9973 - val_loss: 0.0155\n",
            "Epoch 11/12\n",
            "\u001b[1m219/219\u001b[0m \u001b[32m━━━━━━━━━━━━━━━━━━━━\u001b[0m\u001b[37m\u001b[0m \u001b[1m114s\u001b[0m 522ms/step - accuracy: 0.9899 - loss: 0.0302 - val_accuracy: 0.9973 - val_loss: 0.0173\n",
            "Epoch 12/12\n",
            "\u001b[1m219/219\u001b[0m \u001b[32m━━━━━━━━━━━━━━━━━━━━\u001b[0m\u001b[37m\u001b[0m \u001b[1m114s\u001b[0m 520ms/step - accuracy: 0.9853 - loss: 0.0526 - val_accuracy: 0.9880 - val_loss: 0.0353\n"
          ]
        }
      ],
      "source": [
        "model.compile(optimizer='adam', loss=tf.keras.losses.CategoricalCrossentropy(from_logits=True), metrics=['accuracy'])\n",
        "history = model.fit(train_ds, epochs=12, validation_data=val_ds, validation_steps=30)"
      ]
    },
    {
      "cell_type": "markdown",
      "source": [
        "#Test the model and plot metrics"
      ],
      "metadata": {
        "id": "eY1djiF4Y2Ac"
      }
    },
    {
      "cell_type": "code",
      "execution_count": 13,
      "metadata": {
        "colab": {
          "base_uri": "https://localhost:8080/",
          "height": 701
        },
        "id": "NjNuARQ8sLAc",
        "outputId": "a3957bb6-126d-4e79-d5ba-951996aa73b7"
      },
      "outputs": [
        {
          "output_type": "display_data",
          "data": {
            "text/plain": [
              "<Figure size 1600x800 with 2 Axes>"
            ],
            "image/png": "[encoded data removed]"
          },
          "metadata": {}
        }
      ],
      "source": [
        "def plot_graphs(history, metric):\n",
        "  plt.plot(history.history[metric])\n",
        "  plt.plot(history.history['val_'+metric], '')\n",
        "  plt.xlabel(\"Epochs\")\n",
        "  plt.ylabel(metric)\n",
        "  plt.legend([metric, 'val_'+metric])\n",
        "\n",
        "def plot_metrics(history):\n",
        "  plt.figure(figsize=(16, 8))\n",
        "  plt.subplot(1, 2, 1)\n",
        "  plot_graphs(history, 'accuracy')\n",
        "  plt.ylim(None, 1)\n",
        "  plt.subplot(1, 2, 2)\n",
        "  plot_graphs(history, 'loss')\n",
        "  plt.ylim(0, None)\n",
        "\n",
        "plot_metrics(history)"
      ]
    },
    {
      "cell_type": "code",
      "execution_count": 14,
      "metadata": {
        "colab": {
          "base_uri": "https://localhost:8080/"
        },
        "id": "8J-m-J29siqR",
        "outputId": "05f30c53-2a01-4968-a2fc-7594f7b6f58e"
      },
      "outputs": [
        {
          "output_type": "stream",
          "name": "stdout",
          "text": [
            "\u001b[1m8/8\u001b[0m \u001b[32m━━━━━━━━━━━━━━━━━━━━\u001b[0m\u001b[37m\u001b[0m \u001b[1m1s\u001b[0m 115ms/step - accuracy: 0.9971 - loss: 0.0174\n",
            "Loss : 0.024521563202142715 \n",
            "Accuracy :  0.9919999837875366\n"
          ]
        }
      ],
      "source": [
        "def test(model, test_ds):\n",
        "  #test_dataset = test_ds.batch(64).prefetch(tf.data.AUTOTUNE)\n",
        "  test_loss, test_acc = model.evaluate(test_ds)\n",
        "  print(\"Loss :\", test_loss, \"\\nAccuracy : \", test_acc)\n",
        "\n",
        "test(model, test_ds)"
      ]
    },
    {
      "cell_type": "code",
      "execution_count": 15,
      "metadata": {
        "colab": {
          "base_uri": "https://localhost:8080/",
          "height": 17
        },
        "id": "2_9o7rRbtH8r",
        "outputId": "5f50eba4-93af-407b-ebb6-e9c08488f641"
      },
      "outputs": [
        {
          "output_type": "display_data",
          "data": {
            "text/plain": [
              "<IPython.core.display.Javascript object>"
            ],
            "application/javascript": [
              "\n",
              "    async function download(id, filename, size) {\n",
              "      if (!google.colab.kernel.accessAllowed) {\n",
              "        return;\n",
              "      }\n",
              "      const div = document.createElement('div');\n",
              "      const label = document.createElement('label');\n",
              "      label.textContent = `Downloading \"${filename}\": `;\n",
              "      div.appendChild(label);\n",
              "      const progress = document.createElement('progress');\n",
              "      progress.max = size;\n",
              "      div.appendChild(progress);\n",
              "      document.body.appendChild(div);\n",
              "\n",
              "      const buffers = [];\n",
              "      let downloaded = 0;\n",
              "\n",
              "      const channel = await google.colab.kernel.comms.open(id);\n",
              "      // Send a message to notify the kernel that we're ready.\n",
              "      channel.send({})\n",
              "\n",
              "      for await (const message of channel.messages) {\n",
              "        // Send a message to notify the kernel that we're ready.\n",
              "        channel.send({})\n",
              "        if (message.buffers) {\n",
              "          for (const buffer of message.buffers) {\n",
              "            buffers.push(buffer);\n",
              "            downloaded += buffer.byteLength;\n",
              "            progress.value = downloaded;\n",
              "          }\n",
              "        }\n",
              "      }\n",
              "      const blob = new Blob(buffers, {type: 'application/binary'});\n",
              "      const a = document.createElement('a');\n",
              "      a.href = window.URL.createObjectURL(blob);\n",
              "      a.download = filename;\n",
              "      div.appendChild(a);\n",
              "      a.click();\n",
              "      div.remove();\n",
              "    }\n",
              "  "
            ]
          },
          "metadata": {}
        },
        {
          "output_type": "display_data",
          "data": {
            "text/plain": [
              "<IPython.core.display.Javascript object>"
            ],
            "application/javascript": [
              "download(\"download_afe97cda-33fe-423d-b7da-437a66038ce4\", \"command_recogniser.weights.h5\", 59249264)"
            ]
          },
          "metadata": {}
        }
      ],
      "source": [
        "model.save_weights(\"command_recogniser.weights.h5\")\n",
        "\n",
        "from google.colab import files\n",
        "\n",
        "files.download('command_recogniser.weights.h5')"
      ]
    },
    {
      "cell_type": "code",
      "source": [
        "def preprocess(audio):\n",
        "  audio = audio.copy()\n",
        "  audio.resize(44100)\n",
        "  mel_spec = librosa.feature.melspectrogram(y=audio, sr=sr, n_fft=1024, hop_length=512)\n",
        "  mel_spec = librosa.power_to_db(mel_spec, ref=np.max).reshape((128,87,1))\n",
        "  return mel_spec\n",
        "\n",
        "def predict(audios, answers):\n",
        "  audios = audios.apply(preprocess)\n",
        "  audios = np.stack(audios)\n",
        "  predictions = model.predict(audios).tolist()\n",
        "  words = []\n",
        "\n",
        "  for prediction in  predictions:\n",
        "    m = max(prediction)\n",
        "    for i in range(8):\n",
        "      if prediction[i] == m:\n",
        "        words.append(commands[i])\n",
        "\n",
        "  words = pd.Series(words, name='text')\n",
        "  answers = answers.reset_index()['text']\n",
        "  print(\"Predictions :\\n\", words)\n",
        "  print(\"\\nAnswers: \\n\", answers)\n",
        "  total = words.count()\n",
        "  right = (words == answers).sum()\n",
        "  print(\"\\nTotal :\", total, \"\\nRight :\", right, \"\\nPercent : \", right/total*100)\n",
        "\n",
        "\n",
        "\n",
        "predict(samples['audio'], samples['text'])"
      ],
      "metadata": {
        "colab": {
          "base_uri": "https://localhost:8080/"
        },
        "id": "bcFcQcdxzblX",
        "outputId": "5dbb7735-f0a1-430c-a828-3a278abb58fa"
      },
      "execution_count": 17,
      "outputs": [
        {
          "output_type": "stream",
          "name": "stdout",
          "text": [
            "\u001b[1m26/26\u001b[0m \u001b[32m━━━━━━━━━━━━━━━━━━━━\u001b[0m\u001b[37m\u001b[0m \u001b[1m3s\u001b[0m 118ms/step\n",
            "Predictions :\n",
            " 0       yes\n",
            "1       yes\n",
            "2       yes\n",
            "3       yes\n",
            "4       yes\n",
            "       ... \n",
            "817    left\n",
            "818    left\n",
            "819    left\n",
            "820    left\n",
            "821    left\n",
            "Name: text, Length: 822, dtype: object\n",
            "\n",
            "Answers: \n",
            " 0       yes\n",
            "1       yes\n",
            "2       yes\n",
            "3       yes\n",
            "4       yes\n",
            "       ... \n",
            "817    left\n",
            "818    left\n",
            "819    left\n",
            "820    left\n",
            "821    left\n",
            "Name: text, Length: 822, dtype: object\n",
            "\n",
            "Total : 822 \n",
            "Right : 808 \n",
            "Percent :  98.29683698296837\n"
          ]
        }
      ]
    }
  ],
  "metadata": {
    "colab": {
      "provenance": []
    },
    "kernelspec": {
      "display_name": "Python 3",
      "name": "python3"
    },
    "language_info": {
      "name": "python"
    }
  },
  "nbformat": 4,
  "nbformat_minor": 0
}